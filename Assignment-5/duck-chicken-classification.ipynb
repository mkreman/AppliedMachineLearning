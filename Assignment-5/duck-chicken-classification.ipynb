{
 "cells": [
  {
   "cell_type": "code",
   "execution_count": null,
   "metadata": {
    "_cell_guid": "b1076dfc-b9ad-4769-8c92-a6c4dae69d19",
    "_uuid": "8f2839f25d086af736a60e9eeb907d3b93b6e0e5",
    "execution": {
     "iopub.execute_input": "2025-03-29T13:17:21.084671Z",
     "iopub.status.busy": "2025-03-29T13:17:21.084348Z",
     "iopub.status.idle": "2025-03-29T13:17:21.100926Z",
     "shell.execute_reply": "2025-03-29T13:17:21.100277Z",
     "shell.execute_reply.started": "2025-03-29T13:17:21.084647Z"
    },
    "trusted": true
   },
   "outputs": [],
   "source": [
    "import os\n",
    "import shutil\n",
    "from glob import glob\n",
    "import random\n",
    "from pathlib import Path\n",
    "from tqdm import tqdm\n",
    "import matplotlib.pyplot as plt\n",
    "from sklearn.metrics import classification_report\n",
    "\n",
    "import torch\n",
    "from torchvision import datasets, transforms, models\n",
    "from torch.utils.data import DataLoader\n",
    "from torchsummary import summary\n",
    "import torch.nn as nn\n",
    "import torch.optim as optim\n",
    "\n",
    "# Set device\n",
    "device = torch.device(\"cuda\" if torch.cuda.is_available() else \"cpu\")\n",
    "device"
   ]
  },
  {
   "cell_type": "markdown",
   "metadata": {},
   "source": [
    "## Dataset preprocessing"
   ]
  },
  {
   "cell_type": "code",
   "execution_count": null,
   "metadata": {
    "execution": {
     "iopub.execute_input": "2025-03-29T13:17:24.798931Z",
     "iopub.status.busy": "2025-03-29T13:17:24.798622Z",
     "iopub.status.idle": "2025-03-29T13:17:24.803946Z",
     "shell.execute_reply": "2025-03-29T13:17:24.803310Z",
     "shell.execute_reply.started": "2025-03-29T13:17:24.798906Z"
    },
    "trusted": true
   },
   "outputs": [],
   "source": [
    "# Creating folder for train, validation and test datasets\n",
    "dataset_root = Path(\"dataset\")\n",
    "classes = [\"duck\", \"chicken\"]\n",
    "splits = [\"train\", \"val\", \"test\"]\n",
    "\n",
    "for split in splits:\n",
    "    for cls in classes:\n",
    "        (dataset_root / split / cls).mkdir(parents=True, exist_ok=True)"
   ]
  },
  {
   "cell_type": "code",
   "execution_count": null,
   "metadata": {
    "execution": {
     "iopub.execute_input": "2025-03-29T13:17:24.978131Z",
     "iopub.status.busy": "2025-03-29T13:17:24.977839Z",
     "iopub.status.idle": "2025-03-29T13:17:24.983112Z",
     "shell.execute_reply": "2025-03-29T13:17:24.982437Z",
     "shell.execute_reply.started": "2025-03-29T13:17:24.978110Z"
    },
    "trusted": true
   },
   "outputs": [],
   "source": [
    "# Read duck and chicken images\n",
    "duck_images = glob('/kaggle/working/duck_images/*jpg')\n",
    "chicken_images = glob('/kaggle/working/chicken_images/*jpg')\n",
    "\n",
    "random.shuffle(chicken_images)\n",
    "random.shuffle(duck_images)"
   ]
  },
  {
   "cell_type": "code",
   "execution_count": null,
   "metadata": {
    "execution": {
     "iopub.execute_input": "2025-03-29T13:17:26.713914Z",
     "iopub.status.busy": "2025-03-29T13:17:26.713617Z",
     "iopub.status.idle": "2025-03-29T13:17:26.724199Z",
     "shell.execute_reply": "2025-03-29T13:17:26.723550Z",
     "shell.execute_reply.started": "2025-03-29T13:17:26.713894Z"
    },
    "trusted": true
   },
   "outputs": [],
   "source": [
    "# Move images to respective folders\n",
    "for img in duck_images[:80]:\n",
    "    shutil.move(img, f\"./dataset/train/duck/{img.split('/')[-1]}\")\n",
    "\n",
    "for img in duck_images[80:90]:\n",
    "    shutil.move(img, f\"./dataset/val/duck/{img.split('/')[-1]}\")\n",
    "\n",
    "for img in duck_images[90:]:\n",
    "    shutil.move(img, f\"./dataset/test/duck/{img.split('/')[-1]}\")\n",
    "\n",
    "for img in chicken_images[:80]:\n",
    "    shutil.move(img, f\"./dataset/train/chicken/{img.split('/')[-1]}\")\n",
    "\n",
    "for img in chicken_images[80:90]:\n",
    "    shutil.move(img, f\"./dataset/val/chicken/{img.split('/')[-1]}\")\n",
    "\n",
    "for img in chicken_images[90:]:\n",
    "    shutil.move(img, f\"./dataset/test/chicken/{img.split('/')[-1]}\")\n",
    "\n",
    "# Check if the images are moved correctly\n",
    "assert len(os.listdir('./dataset/train/duck/')) == 80\n",
    "assert len(os.listdir('./dataset/val/duck/')) == 10\n",
    "assert len(os.listdir('./dataset/test/duck/')) == 10\n",
    "assert len(os.listdir('./dataset/train/chicken/')) == 80\n",
    "assert len(os.listdir('./dataset/val/chicken/')) == 10\n",
    "assert len(os.listdir('./dataset/test/chicken/')) == 10"
   ]
  },
  {
   "cell_type": "markdown",
   "metadata": {},
   "source": [
    "## Model Building"
   ]
  },
  {
   "cell_type": "code",
   "execution_count": null,
   "metadata": {
    "execution": {
     "iopub.execute_input": "2025-03-29T16:33:20.345587Z",
     "iopub.status.busy": "2025-03-29T16:33:20.345269Z",
     "iopub.status.idle": "2025-03-29T16:33:20.349757Z",
     "shell.execute_reply": "2025-03-29T16:33:20.348892Z",
     "shell.execute_reply.started": "2025-03-29T16:33:20.345558Z"
    },
    "trusted": true
   },
   "outputs": [],
   "source": [
    "def get_dataloaders(data_dir, batch_size=32, img_size=(224, 224), num_workers=4):\n",
    "    \"\"\"\n",
    "    Creates PyTorch DataLoaders for train, validation, and test sets.\n",
    "\n",
    "    Args:\n",
    "        data_dir (str): Root directory containing 'train', 'val', 'test' folders.\n",
    "        batch_size (int): Number of samples per batch.\n",
    "        img_size (tuple): Image size for resizing.\n",
    "        num_workers (int): Number of worker threads for data loading.\n",
    "\n",
    "    Returns:\n",
    "        dict: Dictionary containing 'train', 'val', and 'test' DataLoaders.\n",
    "    \"\"\"\n",
    "\n",
    "    # Define data transformations\n",
    "    transform = transforms.Compose([\n",
    "        transforms.Resize(img_size),\n",
    "        transforms.ToTensor(),\n",
    "        transforms.Normalize(mean=[0.5, 0.5, 0.5], std=[0.5, 0.5, 0.5])  # Normalize\n",
    "    ])\n",
    "\n",
    "    # Load datasets\n",
    "    datasets_dict = {\n",
    "        split: datasets.ImageFolder(root=f\"{data_dir}/{split}\", transform=transform)\n",
    "        for split in [\"train\", \"val\", \"test\"]\n",
    "    }\n",
    "\n",
    "    # Create DataLoaders\n",
    "    dataloaders = {\n",
    "        split: DataLoader(datasets_dict[split], batch_size=batch_size, shuffle=(split==\"train\"), num_workers=num_workers)\n",
    "        for split in [\"train\", \"val\", \"test\"]\n",
    "    }\n",
    "\n",
    "    return dataloaders\n",
    "\n",
    "# Loading the dataset\n",
    "data_dir = \"/kaggle/working/dataset\"\n",
    "dataloaders = get_dataloaders(data_dir, batch_size=32)"
   ]
  },
  {
   "cell_type": "code",
   "execution_count": null,
   "metadata": {
    "execution": {
     "iopub.execute_input": "2025-03-29T13:27:20.821415Z",
     "iopub.status.busy": "2025-03-29T13:27:20.821021Z",
     "iopub.status.idle": "2025-03-29T13:27:21.072009Z",
     "shell.execute_reply": "2025-03-29T13:27:21.071338Z",
     "shell.execute_reply.started": "2025-03-29T13:27:20.821384Z"
    },
    "trusted": true
   },
   "outputs": [],
   "source": [
    "# Get class names\n",
    "class_names = dataloaders['train'].dataset.classes\n",
    "num_classes = len(class_names)\n",
    "\n",
    "# Load Pretrained ResNet-18 Model\n",
    "model = models.resnet18(pretrained=True)\n",
    "\n",
    "# Move model to GPU if available\n",
    "model = model.to(device)\n",
    "\n",
    "# Modify the last fully connected layer for custom classification\n",
    "model.fc = nn.Linear(model.fc.in_features, num_classes)"
   ]
  },
  {
   "cell_type": "code",
   "execution_count": null,
   "metadata": {
    "execution": {
     "iopub.execute_input": "2025-03-29T13:29:55.724217Z",
     "iopub.status.busy": "2025-03-29T13:29:55.723865Z",
     "iopub.status.idle": "2025-03-29T13:29:55.728318Z",
     "shell.execute_reply": "2025-03-29T13:29:55.727400Z",
     "shell.execute_reply.started": "2025-03-29T13:29:55.724189Z"
    },
    "trusted": true
   },
   "outputs": [],
   "source": [
    "# Setting all layers as not trainable except last 3 layers\n",
    "for layer in list(model.parameters())[:-3]:\n",
    "    layer.requires_grad = False"
   ]
  },
  {
   "cell_type": "code",
   "execution_count": null,
   "metadata": {
    "execution": {
     "iopub.execute_input": "2025-03-29T13:29:56.142781Z",
     "iopub.status.busy": "2025-03-29T13:29:56.142452Z",
     "iopub.status.idle": "2025-03-29T13:29:56.174313Z",
     "shell.execute_reply": "2025-03-29T13:29:56.173426Z",
     "shell.execute_reply.started": "2025-03-29T13:29:56.142753Z"
    },
    "trusted": true
   },
   "outputs": [
    {
     "name": "stdout",
     "output_type": "stream",
     "text": [
      "----------------------------------------------------------------\n",
      "        Layer (type)               Output Shape         Param #\n",
      "================================================================\n",
      "            Conv2d-1         [-1, 64, 122, 122]           9,408\n",
      "       BatchNorm2d-2         [-1, 64, 122, 122]             128\n",
      "              ReLU-3         [-1, 64, 122, 122]               0\n",
      "         MaxPool2d-4           [-1, 64, 61, 61]               0\n",
      "            Conv2d-5           [-1, 64, 61, 61]          36,864\n",
      "       BatchNorm2d-6           [-1, 64, 61, 61]             128\n",
      "              ReLU-7           [-1, 64, 61, 61]               0\n",
      "            Conv2d-8           [-1, 64, 61, 61]          36,864\n",
      "       BatchNorm2d-9           [-1, 64, 61, 61]             128\n",
      "             ReLU-10           [-1, 64, 61, 61]               0\n",
      "       BasicBlock-11           [-1, 64, 61, 61]               0\n",
      "           Conv2d-12           [-1, 64, 61, 61]          36,864\n",
      "      BatchNorm2d-13           [-1, 64, 61, 61]             128\n",
      "             ReLU-14           [-1, 64, 61, 61]               0\n",
      "           Conv2d-15           [-1, 64, 61, 61]          36,864\n",
      "      BatchNorm2d-16           [-1, 64, 61, 61]             128\n",
      "             ReLU-17           [-1, 64, 61, 61]               0\n",
      "       BasicBlock-18           [-1, 64, 61, 61]               0\n",
      "           Conv2d-19          [-1, 128, 31, 31]          73,728\n",
      "      BatchNorm2d-20          [-1, 128, 31, 31]             256\n",
      "             ReLU-21          [-1, 128, 31, 31]               0\n",
      "           Conv2d-22          [-1, 128, 31, 31]         147,456\n",
      "      BatchNorm2d-23          [-1, 128, 31, 31]             256\n",
      "           Conv2d-24          [-1, 128, 31, 31]           8,192\n",
      "      BatchNorm2d-25          [-1, 128, 31, 31]             256\n",
      "             ReLU-26          [-1, 128, 31, 31]               0\n",
      "       BasicBlock-27          [-1, 128, 31, 31]               0\n",
      "           Conv2d-28          [-1, 128, 31, 31]         147,456\n",
      "      BatchNorm2d-29          [-1, 128, 31, 31]             256\n",
      "             ReLU-30          [-1, 128, 31, 31]               0\n",
      "           Conv2d-31          [-1, 128, 31, 31]         147,456\n",
      "      BatchNorm2d-32          [-1, 128, 31, 31]             256\n",
      "             ReLU-33          [-1, 128, 31, 31]               0\n",
      "       BasicBlock-34          [-1, 128, 31, 31]               0\n",
      "           Conv2d-35          [-1, 256, 16, 16]         294,912\n",
      "      BatchNorm2d-36          [-1, 256, 16, 16]             512\n",
      "             ReLU-37          [-1, 256, 16, 16]               0\n",
      "           Conv2d-38          [-1, 256, 16, 16]         589,824\n",
      "      BatchNorm2d-39          [-1, 256, 16, 16]             512\n",
      "           Conv2d-40          [-1, 256, 16, 16]          32,768\n",
      "      BatchNorm2d-41          [-1, 256, 16, 16]             512\n",
      "             ReLU-42          [-1, 256, 16, 16]               0\n",
      "       BasicBlock-43          [-1, 256, 16, 16]               0\n",
      "           Conv2d-44          [-1, 256, 16, 16]         589,824\n",
      "      BatchNorm2d-45          [-1, 256, 16, 16]             512\n",
      "             ReLU-46          [-1, 256, 16, 16]               0\n",
      "           Conv2d-47          [-1, 256, 16, 16]         589,824\n",
      "      BatchNorm2d-48          [-1, 256, 16, 16]             512\n",
      "             ReLU-49          [-1, 256, 16, 16]               0\n",
      "       BasicBlock-50          [-1, 256, 16, 16]               0\n",
      "           Conv2d-51            [-1, 512, 8, 8]       1,179,648\n",
      "      BatchNorm2d-52            [-1, 512, 8, 8]           1,024\n",
      "             ReLU-53            [-1, 512, 8, 8]               0\n",
      "           Conv2d-54            [-1, 512, 8, 8]       2,359,296\n",
      "      BatchNorm2d-55            [-1, 512, 8, 8]           1,024\n",
      "           Conv2d-56            [-1, 512, 8, 8]         131,072\n",
      "      BatchNorm2d-57            [-1, 512, 8, 8]           1,024\n",
      "             ReLU-58            [-1, 512, 8, 8]               0\n",
      "       BasicBlock-59            [-1, 512, 8, 8]               0\n",
      "           Conv2d-60            [-1, 512, 8, 8]       2,359,296\n",
      "      BatchNorm2d-61            [-1, 512, 8, 8]           1,024\n",
      "             ReLU-62            [-1, 512, 8, 8]               0\n",
      "           Conv2d-63            [-1, 512, 8, 8]       2,359,296\n",
      "      BatchNorm2d-64            [-1, 512, 8, 8]           1,024\n",
      "             ReLU-65            [-1, 512, 8, 8]               0\n",
      "       BasicBlock-66            [-1, 512, 8, 8]               0\n",
      "AdaptiveAvgPool2d-67            [-1, 512, 1, 1]               0\n",
      "           Linear-68                    [-1, 2]           1,026\n",
      "================================================================\n",
      "Total params: 11,177,538\n",
      "Trainable params: 1,026\n",
      "Non-trainable params: 11,176,512\n",
      "----------------------------------------------------------------\n",
      "Input size (MB): 0.68\n",
      "Forward/backward pass size (MB): 76.08\n",
      "Params size (MB): 42.64\n",
      "Estimated Total Size (MB): 119.40\n",
      "----------------------------------------------------------------\n"
     ]
    }
   ],
   "source": [
    "# Printing summary\n",
    "summary(model.to(device), (3, 244, 244))"
   ]
  },
  {
   "cell_type": "markdown",
   "metadata": {},
   "source": [
    "## Training"
   ]
  },
  {
   "cell_type": "code",
   "execution_count": null,
   "metadata": {
    "execution": {
     "iopub.execute_input": "2025-03-29T13:30:12.589849Z",
     "iopub.status.busy": "2025-03-29T13:30:12.589529Z",
     "iopub.status.idle": "2025-03-29T13:30:19.283664Z",
     "shell.execute_reply": "2025-03-29T13:30:19.282674Z",
     "shell.execute_reply.started": "2025-03-29T13:30:12.589822Z"
    },
    "trusted": true
   },
   "outputs": [
    {
     "name": "stdout",
     "output_type": "stream",
     "text": [
      "Epoch 1/10\n"
     ]
    },
    {
     "name": "stderr",
     "output_type": "stream",
     "text": [
      "train Epoch 1: 100%|██████████| 5/5 [00:00<00:00,  6.18it/s, loss=0.479]\n"
     ]
    },
    {
     "name": "stdout",
     "output_type": "stream",
     "text": [
      "Loss: 0.0163, Accuracy: 0.7375\n"
     ]
    },
    {
     "name": "stderr",
     "output_type": "stream",
     "text": [
      "val Epoch 1: 100%|██████████| 1/1 [00:00<00:00,  4.95it/s, loss=0.456]\n"
     ]
    },
    {
     "name": "stdout",
     "output_type": "stream",
     "text": [
      "Loss: 0.0228, Accuracy: 0.9\n",
      "\n",
      "Epoch 2/10\n"
     ]
    },
    {
     "name": "stderr",
     "output_type": "stream",
     "text": [
      "train Epoch 2: 100%|██████████| 5/5 [00:00<00:00, 11.74it/s, loss=0.345]\n"
     ]
    },
    {
     "name": "stdout",
     "output_type": "stream",
     "text": [
      "Loss: 0.0122, Accuracy: 0.90625\n"
     ]
    },
    {
     "name": "stderr",
     "output_type": "stream",
     "text": [
      "val Epoch 2: 100%|██████████| 1/1 [00:00<00:00,  5.29it/s, loss=0.394]\n"
     ]
    },
    {
     "name": "stdout",
     "output_type": "stream",
     "text": [
      "Loss: 0.0197, Accuracy: 0.85\n",
      "\n",
      "Epoch 3/10\n"
     ]
    },
    {
     "name": "stderr",
     "output_type": "stream",
     "text": [
      "train Epoch 3: 100%|██████████| 5/5 [00:00<00:00, 11.69it/s, loss=0.327]\n"
     ]
    },
    {
     "name": "stdout",
     "output_type": "stream",
     "text": [
      "Loss: 0.0101, Accuracy: 0.925\n"
     ]
    },
    {
     "name": "stderr",
     "output_type": "stream",
     "text": [
      "val Epoch 3: 100%|██████████| 1/1 [00:00<00:00,  5.44it/s, loss=0.32]\n"
     ]
    },
    {
     "name": "stdout",
     "output_type": "stream",
     "text": [
      "Loss: 0.0160, Accuracy: 0.9\n",
      "\n",
      "Epoch 4/10\n"
     ]
    },
    {
     "name": "stderr",
     "output_type": "stream",
     "text": [
      "train Epoch 4: 100%|██████████| 5/5 [00:00<00:00, 11.81it/s, loss=0.218]\n"
     ]
    },
    {
     "name": "stdout",
     "output_type": "stream",
     "text": [
      "Loss: 0.0077, Accuracy: 0.9375\n"
     ]
    },
    {
     "name": "stderr",
     "output_type": "stream",
     "text": [
      "val Epoch 4: 100%|██████████| 1/1 [00:00<00:00,  5.41it/s, loss=0.284]\n"
     ]
    },
    {
     "name": "stdout",
     "output_type": "stream",
     "text": [
      "Loss: 0.0142, Accuracy: 0.9\n",
      "\n",
      "Epoch 5/10\n"
     ]
    },
    {
     "name": "stderr",
     "output_type": "stream",
     "text": [
      "train Epoch 5: 100%|██████████| 5/5 [00:00<00:00, 11.91it/s, loss=0.173]\n"
     ]
    },
    {
     "name": "stdout",
     "output_type": "stream",
     "text": [
      "Loss: 0.0068, Accuracy: 0.95625\n"
     ]
    },
    {
     "name": "stderr",
     "output_type": "stream",
     "text": [
      "val Epoch 5: 100%|██████████| 1/1 [00:00<00:00,  5.43it/s, loss=0.261]\n"
     ]
    },
    {
     "name": "stdout",
     "output_type": "stream",
     "text": [
      "Loss: 0.0130, Accuracy: 0.95\n",
      "\n",
      "Epoch 6/10\n"
     ]
    },
    {
     "name": "stderr",
     "output_type": "stream",
     "text": [
      "train Epoch 6: 100%|██████████| 5/5 [00:00<00:00, 11.95it/s, loss=0.18] \n"
     ]
    },
    {
     "name": "stdout",
     "output_type": "stream",
     "text": [
      "Loss: 0.0056, Accuracy: 0.9625\n"
     ]
    },
    {
     "name": "stderr",
     "output_type": "stream",
     "text": [
      "val Epoch 6: 100%|██████████| 1/1 [00:00<00:00,  5.31it/s, loss=0.272]\n"
     ]
    },
    {
     "name": "stdout",
     "output_type": "stream",
     "text": [
      "Loss: 0.0136, Accuracy: 0.85\n",
      "\n",
      "Epoch 7/10\n"
     ]
    },
    {
     "name": "stderr",
     "output_type": "stream",
     "text": [
      "train Epoch 7: 100%|██████████| 5/5 [00:00<00:00, 11.88it/s, loss=0.139]\n"
     ]
    },
    {
     "name": "stdout",
     "output_type": "stream",
     "text": [
      "Loss: 0.0049, Accuracy: 0.975\n"
     ]
    },
    {
     "name": "stderr",
     "output_type": "stream",
     "text": [
      "val Epoch 7: 100%|██████████| 1/1 [00:00<00:00,  5.46it/s, loss=0.227]\n"
     ]
    },
    {
     "name": "stdout",
     "output_type": "stream",
     "text": [
      "Loss: 0.0113, Accuracy: 0.95\n",
      "\n",
      "Epoch 8/10\n"
     ]
    },
    {
     "name": "stderr",
     "output_type": "stream",
     "text": [
      "train Epoch 8: 100%|██████████| 5/5 [00:00<00:00, 10.97it/s, loss=0.195]\n"
     ]
    },
    {
     "name": "stdout",
     "output_type": "stream",
     "text": [
      "Loss: 0.0047, Accuracy: 0.9625\n"
     ]
    },
    {
     "name": "stderr",
     "output_type": "stream",
     "text": [
      "val Epoch 8: 100%|██████████| 1/1 [00:00<00:00,  5.08it/s, loss=0.216]\n"
     ]
    },
    {
     "name": "stdout",
     "output_type": "stream",
     "text": [
      "Loss: 0.0108, Accuracy: 0.95\n",
      "\n",
      "Epoch 9/10\n"
     ]
    },
    {
     "name": "stderr",
     "output_type": "stream",
     "text": [
      "train Epoch 9: 100%|██████████| 5/5 [00:00<00:00, 11.78it/s, loss=0.12]  \n"
     ]
    },
    {
     "name": "stdout",
     "output_type": "stream",
     "text": [
      "Loss: 0.0039, Accuracy: 0.99375\n"
     ]
    },
    {
     "name": "stderr",
     "output_type": "stream",
     "text": [
      "val Epoch 9: 100%|██████████| 1/1 [00:00<00:00,  5.23it/s, loss=0.211]\n"
     ]
    },
    {
     "name": "stdout",
     "output_type": "stream",
     "text": [
      "Loss: 0.0105, Accuracy: 0.95\n",
      "\n",
      "Epoch 10/10\n"
     ]
    },
    {
     "name": "stderr",
     "output_type": "stream",
     "text": [
      "train Epoch 10: 100%|██████████| 5/5 [00:00<00:00, 11.92it/s, loss=0.103] \n"
     ]
    },
    {
     "name": "stdout",
     "output_type": "stream",
     "text": [
      "Loss: 0.0034, Accuracy: 0.99375\n"
     ]
    },
    {
     "name": "stderr",
     "output_type": "stream",
     "text": [
      "val Epoch 10: 100%|██████████| 1/1 [00:00<00:00,  5.39it/s, loss=0.213]"
     ]
    },
    {
     "name": "stdout",
     "output_type": "stream",
     "text": [
      "Loss: 0.0107, Accuracy: 0.9\n",
      "\n"
     ]
    },
    {
     "name": "stderr",
     "output_type": "stream",
     "text": [
      "\n"
     ]
    }
   ],
   "source": [
    "# Define loss function and optimizer\n",
    "criterion = nn.CrossEntropyLoss()\n",
    "optimizer = optim.Adam(model.parameters(), lr=0.001)\n",
    "num_epochs = 10\n",
    "\n",
    "losses = {\n",
    "    'train': [],\n",
    "    'val': []\n",
    "}\n",
    "\n",
    "accuracies = {\n",
    "    'train': [],\n",
    "    'val': []\n",
    "}\n",
    "\n",
    "best_val_loss = float('inf')\n",
    "\n",
    "for epoch in range(num_epochs):\n",
    "    print(f\"Epoch {epoch+1}/{num_epochs}\")\n",
    "\n",
    "    for split in [\"train\", \"val\"]:\n",
    "        if split == \"train\":\n",
    "            model.train()\n",
    "        else:\n",
    "            model.eval()\n",
    "\n",
    "        running_loss = 0.0\n",
    "        corrects = 0\n",
    "\n",
    "        # Use tqdm to display progress\n",
    "        progress_bar = tqdm(dataloaders[split], desc=f\"{split} Epoch {epoch+1}\")\n",
    "\n",
    "        for inputs, labels in progress_bar:\n",
    "            inputs, labels = inputs.to(device), labels.to(device)\n",
    "\n",
    "            optimizer.zero_grad()\n",
    "\n",
    "            with torch.set_grad_enabled(split == \"train\"):\n",
    "                outputs = model(inputs)\n",
    "                loss = criterion(outputs, labels)\n",
    "                preds = torch.argmax(outputs, dim=1)\n",
    "\n",
    "                if split == \"train\":\n",
    "                    loss.backward()\n",
    "                    optimizer.step()\n",
    "\n",
    "            running_loss += loss.item()\n",
    "            corrects += torch.sum(preds == labels.data).item()\n",
    "            progress_bar.set_postfix(loss=loss.item())\n",
    "\n",
    "        # Compute epoch loss and accuracy using dataset size\n",
    "        epoch_loss = running_loss / len(dataloaders[split].dataset)\n",
    "        epoch_acc = corrects / len(dataloaders[split].dataset)\n",
    "\n",
    "        # storing loss and accuracies\n",
    "        losses[split].append(epoch_loss)\n",
    "        accuracies[split].append(epoch_acc)\n",
    "\n",
    "        if split == 'val' and best_val_loss < epoch_loss:\n",
    "            best_val_loss = epoch_loss\n",
    "            # Save the trained model\n",
    "            torch.save(model.state_dict(), \"/kaggle/working/resnet18_model.pth\")\n",
    "            print(f\"The checkpoint is saved!\")\n",
    "\n",
    "        print(f\"Loss: {epoch_loss:.4f}, Accuracy: {epoch_acc}\")\n",
    "    print()"
   ]
  },
  {
   "cell_type": "code",
   "execution_count": null,
   "metadata": {
    "execution": {
     "iopub.execute_input": "2025-03-29T13:30:19.285157Z",
     "iopub.status.busy": "2025-03-29T13:30:19.284926Z",
     "iopub.status.idle": "2025-03-29T13:30:19.774013Z",
     "shell.execute_reply": "2025-03-29T13:30:19.773172Z",
     "shell.execute_reply.started": "2025-03-29T13:30:19.285135Z"
    },
    "trusted": true
   },
   "outputs": [
    {
     "data": {
      "image/png": "[encoded data removed]",
      "text/plain": [
       "<Figure size 1200x500 with 2 Axes>"
      ]
     },
     "metadata": {},
     "output_type": "display_data"
    }
   ],
   "source": [
    "plt.figure(figsize=(12, 5))\n",
    "\n",
    "# Loss Plot\n",
    "plt.subplot(1, 2, 1)\n",
    "plt.plot(range(1, num_epochs + 1), losses['train'], label='Train Loss', marker='o')\n",
    "plt.plot(range(1, num_epochs + 1), losses['val'], label='Validation Loss', marker='o')\n",
    "plt.xticks(range(1, num_epochs + 1))\n",
    "plt.xlabel('Epochs')\n",
    "plt.ylabel('Loss')\n",
    "plt.title('Training & Validation Loss')\n",
    "plt.legend()\n",
    "\n",
    "# Accuracy Plot\n",
    "plt.subplot(1, 2, 2)\n",
    "plt.plot(range(1, num_epochs + 1), accuracies['train'], label='Train Accuracy', marker='o')\n",
    "plt.plot(range(1, num_epochs + 1), accuracies['val'], label='Validation Accuracy', marker='o')\n",
    "plt.xticks(range(1, num_epochs + 1))\n",
    "plt.xlabel('Epochs')\n",
    "plt.ylabel('Accuracy')\n",
    "plt.title('Training & Validation Accuracy')\n",
    "plt.legend()\n",
    "\n",
    "plt.tight_layout()\n",
    "plt.show()"
   ]
  },
  {
   "cell_type": "markdown",
   "metadata": {},
   "source": [
    "## Testing"
   ]
  },
  {
   "cell_type": "code",
   "execution_count": null,
   "metadata": {
    "execution": {
     "iopub.execute_input": "2025-03-29T14:01:37.166220Z",
     "iopub.status.busy": "2025-03-29T14:01:37.165758Z",
     "iopub.status.idle": "2025-03-29T14:01:37.431767Z",
     "shell.execute_reply": "2025-03-29T14:01:37.430597Z",
     "shell.execute_reply.started": "2025-03-29T14:01:37.166182Z"
    },
    "trusted": true
   },
   "outputs": [
    {
     "name": "stdout",
     "output_type": "stream",
     "text": [
      "Total Test Loss: 0.1531\n"
     ]
    }
   ],
   "source": [
    "# Loading the best model and testing on test dataset\n",
    "model.load_state_dict(torch.load(\"/kaggle/working/resnet18_model.pth\"))\n",
    "model.to(device)\n",
    "model.eval()\n",
    "\n",
    "test_loss = 0\n",
    "predictions = []\n",
    "labels = []\n",
    "with torch.no_grad():\n",
    "    for input_batch, labels_batch in dataloaders['test']:\n",
    "        input_batch, labels_batch = input_batch.to(device), labels_batch.to(device)\n",
    "        output = model(input_batch)\n",
    "    \n",
    "        loss = criterion(output, labels_batch)\n",
    "        preds = output.argmax(dim = 1)\n",
    "\n",
    "        test_loss += loss.item()\n",
    "        predictions.extend(preds.cpu().numpy())\n",
    "        labels.extend(labels_batch.cpu().numpy())\n",
    "\n",
    "print(f\"Total Test Loss: {test_loss:.4f}\")"
   ]
  },
  {
   "cell_type": "code",
   "execution_count": null,
   "metadata": {
    "execution": {
     "iopub.execute_input": "2025-03-29T14:01:46.278143Z",
     "iopub.status.busy": "2025-03-29T14:01:46.277808Z",
     "iopub.status.idle": "2025-03-29T14:01:46.290204Z",
     "shell.execute_reply": "2025-03-29T14:01:46.289360Z",
     "shell.execute_reply.started": "2025-03-29T14:01:46.278115Z"
    },
    "trusted": true
   },
   "outputs": [
    {
     "name": "stdout",
     "output_type": "stream",
     "text": [
      "              precision    recall  f1-score   support\n",
      "\n",
      "           0       0.90      1.00      0.95         9\n",
      "           1       1.00      0.91      0.95        11\n",
      "\n",
      "    accuracy                           0.95        20\n",
      "   macro avg       0.95      0.95      0.95        20\n",
      "weighted avg       0.96      0.95      0.95        20\n",
      "\n"
     ]
    }
   ],
   "source": [
    "print(classification_report(predictions, labels))"
   ]
  },
  {
   "cell_type": "code",
   "execution_count": null,
   "metadata": {
    "trusted": true
   },
   "outputs": [],
   "source": []
  }
 ],
 "metadata": {
  "kaggle": {
   "accelerator": "gpu",
   "dataSources": [
    {
     "datasetId": 989445,
     "sourceId": 1808590,
     "sourceType": "datasetVersion"
    },
    {
     "datasetId": 4796447,
     "sourceId": 8118245,
     "sourceType": "datasetVersion"
    }
   ],
   "dockerImageVersionId": 30918,
   "isGpuEnabled": true,
   "isInternetEnabled": true,
   "language": "python",
   "sourceType": "notebook"
  },
  "kernelspec": {
   "display_name": "aml",
   "language": "python",
   "name": "python3"
  },
  "language_info": {
   "codemirror_mode": {
    "name": "ipython",
    "version": 3
   },
   "file_extension": ".py",
   "mimetype": "text/x-python",
   "name": "python",
   "nbconvert_exporter": "python",
   "pygments_lexer": "ipython3",
   "version": "3.11.11"
  }
 },
 "nbformat": 4,
 "nbformat_minor": 4
}
