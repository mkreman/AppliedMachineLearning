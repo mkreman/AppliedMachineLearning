{
 "cells": [
  {
   "cell_type": "code",
   "execution_count": null,
   "metadata": {
    "execution": {
     "iopub.execute_input": "2025-04-17T11:32:38.521019Z",
     "iopub.status.busy": "2025-04-17T11:32:38.520657Z",
     "iopub.status.idle": "2025-04-17T11:32:59.801331Z",
     "shell.execute_reply": "2025-04-17T11:32:59.800568Z",
     "shell.execute_reply.started": "2025-04-17T11:32:38.520989Z"
    },
    "trusted": true
   },
   "outputs": [
    {
     "data": {
      "text/plain": [
       "device(type='cuda')"
      ]
     },
     "execution_count": 1,
     "metadata": {},
     "output_type": "execute_result"
    }
   ],
   "source": [
    "import numpy as np\n",
    "import pandas as pd\n",
    "import matplotlib.pyplot as plt\n",
    "from tqdm import tqdm\n",
    "import warnings\n",
    "warnings.filterwarnings(\"ignore\")\n",
    "\n",
    "from sklearn.model_selection import train_test_split\n",
    "from sklearn.metrics import classification_report\n",
    "from sklearn.utils.class_weight import compute_class_weight\n",
    "\n",
    "from transformers import BertModel, BertTokenizerFast, AdamW\n",
    "import torch\n",
    "import torch.nn as nn\n",
    "from torch.utils.data import TensorDataset, DataLoader, RandomSampler, SequentialSampler\n",
    "\n",
    "\n",
    "# Set device\n",
    "device = torch.device(\"cuda\" if torch.cuda.is_available() else \"cpu\")\n",
    "device"
   ]
  },
  {
   "cell_type": "markdown",
   "metadata": {},
   "source": [
    "## Data Preprocessing"
   ]
  },
  {
   "cell_type": "code",
   "execution_count": 2,
   "metadata": {
    "execution": {
     "iopub.execute_input": "2025-04-17T11:32:59.802839Z",
     "iopub.status.busy": "2025-04-17T11:32:59.802349Z",
     "iopub.status.idle": "2025-04-17T11:32:59.987981Z",
     "shell.execute_reply": "2025-04-17T11:32:59.987178Z",
     "shell.execute_reply.started": "2025-04-17T11:32:59.802818Z"
    },
    "trusted": true
   },
   "outputs": [
    {
     "data": {
      "text/html": [
       "<div>\n",
       "<style scoped>\n",
       "    .dataframe tbody tr th:only-of-type {\n",
       "        vertical-align: middle;\n",
       "    }\n",
       "\n",
       "    .dataframe tbody tr th {\n",
       "        vertical-align: top;\n",
       "    }\n",
       "\n",
       "    .dataframe thead th {\n",
       "        text-align: right;\n",
       "    }\n",
       "</style>\n",
       "<table border=\"1\" class=\"dataframe\">\n",
       "  <thead>\n",
       "    <tr style=\"text-align: right;\">\n",
       "      <th></th>\n",
       "      <th>text</th>\n",
       "      <th>sentiment</th>\n",
       "    </tr>\n",
       "  </thead>\n",
       "  <tbody>\n",
       "    <tr>\n",
       "      <th>0</th>\n",
       "      <td>I`d have responded, if I were going</td>\n",
       "      <td>neutral</td>\n",
       "    </tr>\n",
       "    <tr>\n",
       "      <th>1</th>\n",
       "      <td>Sooo SAD I will miss you here in San Diego!!!</td>\n",
       "      <td>negative</td>\n",
       "    </tr>\n",
       "    <tr>\n",
       "      <th>2</th>\n",
       "      <td>my boss is bullying me...</td>\n",
       "      <td>negative</td>\n",
       "    </tr>\n",
       "    <tr>\n",
       "      <th>3</th>\n",
       "      <td>what interview! leave me alone</td>\n",
       "      <td>negative</td>\n",
       "    </tr>\n",
       "    <tr>\n",
       "      <th>4</th>\n",
       "      <td>Sons of ****, why couldn`t they put them on t...</td>\n",
       "      <td>negative</td>\n",
       "    </tr>\n",
       "  </tbody>\n",
       "</table>\n",
       "</div>"
      ],
      "text/plain": [
       "                                                text sentiment\n",
       "0                I`d have responded, if I were going   neutral\n",
       "1      Sooo SAD I will miss you here in San Diego!!!  negative\n",
       "2                          my boss is bullying me...  negative\n",
       "3                     what interview! leave me alone  negative\n",
       "4   Sons of ****, why couldn`t they put them on t...  negative"
      ]
     },
     "execution_count": 2,
     "metadata": {},
     "output_type": "execute_result"
    }
   ],
   "source": [
    "# Read the dataset\n",
    "train_df = pd.read_csv('/kaggle/input/sentiment-analysis-dataset/train.csv', encoding=\"ISO-8859-1\")\n",
    "train_df = train_df.loc[:, ['text', 'sentiment']]\n",
    "train_df.head()"
   ]
  },
  {
   "cell_type": "code",
   "execution_count": 3,
   "metadata": {
    "execution": {
     "iopub.execute_input": "2025-04-17T11:32:59.989422Z",
     "iopub.status.busy": "2025-04-17T11:32:59.989139Z",
     "iopub.status.idle": "2025-04-17T11:33:00.017535Z",
     "shell.execute_reply": "2025-04-17T11:33:00.016913Z",
     "shell.execute_reply.started": "2025-04-17T11:32:59.989402Z"
    },
    "trusted": true
   },
   "outputs": [
    {
     "data": {
      "text/html": [
       "<div>\n",
       "<style scoped>\n",
       "    .dataframe tbody tr th:only-of-type {\n",
       "        vertical-align: middle;\n",
       "    }\n",
       "\n",
       "    .dataframe tbody tr th {\n",
       "        vertical-align: top;\n",
       "    }\n",
       "\n",
       "    .dataframe thead th {\n",
       "        text-align: right;\n",
       "    }\n",
       "</style>\n",
       "<table border=\"1\" class=\"dataframe\">\n",
       "  <thead>\n",
       "    <tr style=\"text-align: right;\">\n",
       "      <th></th>\n",
       "      <th>text</th>\n",
       "      <th>sentiment</th>\n",
       "    </tr>\n",
       "  </thead>\n",
       "  <tbody>\n",
       "    <tr>\n",
       "      <th>0</th>\n",
       "      <td>Last session of the day  http://twitpic.com/67ezh</td>\n",
       "      <td>neutral</td>\n",
       "    </tr>\n",
       "    <tr>\n",
       "      <th>1</th>\n",
       "      <td>Shanghai is also really exciting (precisely -...</td>\n",
       "      <td>positive</td>\n",
       "    </tr>\n",
       "    <tr>\n",
       "      <th>2</th>\n",
       "      <td>Recession hit Veronique Branquinho, she has to...</td>\n",
       "      <td>negative</td>\n",
       "    </tr>\n",
       "    <tr>\n",
       "      <th>3</th>\n",
       "      <td>happy bday!</td>\n",
       "      <td>positive</td>\n",
       "    </tr>\n",
       "    <tr>\n",
       "      <th>4</th>\n",
       "      <td>http://twitpic.com/4w75p - I like it!!</td>\n",
       "      <td>positive</td>\n",
       "    </tr>\n",
       "  </tbody>\n",
       "</table>\n",
       "</div>"
      ],
      "text/plain": [
       "                                                text sentiment\n",
       "0  Last session of the day  http://twitpic.com/67ezh   neutral\n",
       "1   Shanghai is also really exciting (precisely -...  positive\n",
       "2  Recession hit Veronique Branquinho, she has to...  negative\n",
       "3                                        happy bday!  positive\n",
       "4             http://twitpic.com/4w75p - I like it!!  positive"
      ]
     },
     "execution_count": 3,
     "metadata": {},
     "output_type": "execute_result"
    }
   ],
   "source": [
    "# Read the test dataset\n",
    "test_df = pd.read_csv('/kaggle/input/sentiment-analysis-dataset/test.csv', encoding=\"ISO-8859-1\")\n",
    "test_df = test_df.loc[:, ['text', 'sentiment']]\n",
    "test_df.head()"
   ]
  },
  {
   "cell_type": "code",
   "execution_count": 4,
   "metadata": {
    "execution": {
     "iopub.execute_input": "2025-04-17T11:33:00.018802Z",
     "iopub.status.busy": "2025-04-17T11:33:00.018520Z",
     "iopub.status.idle": "2025-04-17T11:33:00.027824Z",
     "shell.execute_reply": "2025-04-17T11:33:00.027183Z",
     "shell.execute_reply.started": "2025-04-17T11:33:00.018781Z"
    },
    "trusted": true
   },
   "outputs": [
    {
     "data": {
      "text/plain": [
       "array(['neutral', 'negative', 'positive'], dtype=object)"
      ]
     },
     "execution_count": 4,
     "metadata": {},
     "output_type": "execute_result"
    }
   ],
   "source": [
    "# Unique classes\n",
    "train_df['sentiment'].unique()"
   ]
  },
  {
   "cell_type": "code",
   "execution_count": null,
   "metadata": {
    "execution": {
     "iopub.execute_input": "2025-04-17T11:33:00.028769Z",
     "iopub.status.busy": "2025-04-17T11:33:00.028529Z",
     "iopub.status.idle": "2025-04-17T11:33:00.043124Z",
     "shell.execute_reply": "2025-04-17T11:33:00.042324Z",
     "shell.execute_reply.started": "2025-04-17T11:33:00.028749Z"
    },
    "trusted": true
   },
   "outputs": [
    {
     "data": {
      "text/plain": [
       "((27481, 2), (4815, 2))"
      ]
     },
     "execution_count": 5,
     "metadata": {},
     "output_type": "execute_result"
    }
   ],
   "source": [
    "# Check the shape of datasets\n",
    "train_df.shape, test_df.shape"
   ]
  },
  {
   "cell_type": "code",
   "execution_count": 6,
   "metadata": {
    "execution": {
     "iopub.execute_input": "2025-04-17T11:33:00.044224Z",
     "iopub.status.busy": "2025-04-17T11:33:00.043956Z",
     "iopub.status.idle": "2025-04-17T11:33:00.060545Z",
     "shell.execute_reply": "2025-04-17T11:33:00.059958Z",
     "shell.execute_reply.started": "2025-04-17T11:33:00.044198Z"
    },
    "trusted": true
   },
   "outputs": [
    {
     "data": {
      "text/plain": [
       "(1, 1281)"
      ]
     },
     "execution_count": 6,
     "metadata": {},
     "output_type": "execute_result"
    }
   ],
   "source": [
    "# Check for missing values\n",
    "train_df['text'].isna().sum(), test_df['text'].isna().sum()"
   ]
  },
  {
   "cell_type": "code",
   "execution_count": 7,
   "metadata": {
    "execution": {
     "iopub.execute_input": "2025-04-17T11:33:00.061478Z",
     "iopub.status.busy": "2025-04-17T11:33:00.061230Z",
     "iopub.status.idle": "2025-04-17T11:33:00.082714Z",
     "shell.execute_reply": "2025-04-17T11:33:00.081842Z",
     "shell.execute_reply.started": "2025-04-17T11:33:00.061448Z"
    },
    "trusted": true
   },
   "outputs": [],
   "source": [
    "# Remove missing values\n",
    "train_df.dropna(inplace=True)\n",
    "test_df.dropna(inplace=True)"
   ]
  },
  {
   "cell_type": "code",
   "execution_count": 8,
   "metadata": {
    "execution": {
     "iopub.execute_input": "2025-04-17T11:33:00.085321Z",
     "iopub.status.busy": "2025-04-17T11:33:00.085107Z",
     "iopub.status.idle": "2025-04-17T11:33:00.093529Z",
     "shell.execute_reply": "2025-04-17T11:33:00.092684Z",
     "shell.execute_reply.started": "2025-04-17T11:33:00.085301Z"
    },
    "trusted": true
   },
   "outputs": [],
   "source": [
    "# Encode the labels\n",
    "label_encoding = {'neutral': 0, 'negative': 1, 'positive': 2}\n",
    "train_df.loc[:, 'label'] = train_df.loc[:, 'sentiment'].map(label_encoding)\n",
    "test_df.loc[:, 'label'] = test_df.loc[:, 'sentiment'].map(label_encoding)"
   ]
  },
  {
   "cell_type": "code",
   "execution_count": 9,
   "metadata": {
    "execution": {
     "iopub.execute_input": "2025-04-17T11:33:00.095492Z",
     "iopub.status.busy": "2025-04-17T11:33:00.095260Z",
     "iopub.status.idle": "2025-04-17T11:33:00.111466Z",
     "shell.execute_reply": "2025-04-17T11:33:00.110686Z",
     "shell.execute_reply.started": "2025-04-17T11:33:00.095473Z"
    },
    "trusted": true
   },
   "outputs": [
    {
     "name": "stdout",
     "output_type": "stream",
     "text": [
      "21984 5496\n"
     ]
    }
   ],
   "source": [
    "# Split the DataFrame (80% train, 20% validation)\n",
    "train_df, val_df = train_test_split(train_df, test_size=0.2, random_state=42)\n",
    "print(len(train_df), len(val_df))"
   ]
  },
  {
   "cell_type": "code",
   "execution_count": 10,
   "metadata": {
    "execution": {
     "iopub.execute_input": "2025-04-17T11:33:00.112388Z",
     "iopub.status.busy": "2025-04-17T11:33:00.112185Z",
     "iopub.status.idle": "2025-04-17T11:33:03.896474Z",
     "shell.execute_reply": "2025-04-17T11:33:03.895880Z",
     "shell.execute_reply.started": "2025-04-17T11:33:00.112373Z"
    },
    "trusted": true
   },
   "outputs": [
    {
     "data": {
      "application/vnd.jupyter.widget-view+json": {
       "model_id": "8ab4a2eebc4b453eb0d0368f6dcb058b",
       "version_major": 2,
       "version_minor": 0
      },
      "text/plain": [
       "tokenizer_config.json:   0%|          | 0.00/48.0 [00:00<?, ?B/s]"
      ]
     },
     "metadata": {},
     "output_type": "display_data"
    },
    {
     "data": {
      "application/vnd.jupyter.widget-view+json": {
       "model_id": "3ae0c61f142144979ae0087aa356762b",
       "version_major": 2,
       "version_minor": 0
      },
      "text/plain": [
       "vocab.txt:   0%|          | 0.00/232k [00:00<?, ?B/s]"
      ]
     },
     "metadata": {},
     "output_type": "display_data"
    },
    {
     "data": {
      "application/vnd.jupyter.widget-view+json": {
       "model_id": "23a87c984bee4ad4ad681f0dcdd1b398",
       "version_major": 2,
       "version_minor": 0
      },
      "text/plain": [
       "tokenizer.json:   0%|          | 0.00/466k [00:00<?, ?B/s]"
      ]
     },
     "metadata": {},
     "output_type": "display_data"
    },
    {
     "data": {
      "application/vnd.jupyter.widget-view+json": {
       "model_id": "65faa284ef5e4d4cb6746b65024ccd3d",
       "version_major": 2,
       "version_minor": 0
      },
      "text/plain": [
       "config.json:   0%|          | 0.00/570 [00:00<?, ?B/s]"
      ]
     },
     "metadata": {},
     "output_type": "display_data"
    }
   ],
   "source": [
    "# Load the BERT tokenizer\n",
    "tokenizer = BertTokenizerFast.from_pretrained('bert-base-uncased')\n",
    "\n",
    "# tokenize and encode sequences in the training set\n",
    "tokens_train = tokenizer.batch_encode_plus(\n",
    "    train_df['text'].tolist(),\n",
    "    padding='longest',\n",
    "    max_length=25,\n",
    "    truncation=True\n",
    ")\n",
    "\n",
    "# tokenize and encode sequences in the validation set\n",
    "tokens_val = tokenizer.batch_encode_plus(\n",
    "    val_df['text'].tolist(),\n",
    "    padding='longest',\n",
    "    max_length=25,\n",
    "    truncation=True\n",
    ")\n",
    "\n",
    "# tokenize and encode sequences in the test set\n",
    "tokens_test = tokenizer.batch_encode_plus(\n",
    "    test_df['text'].tolist(),\n",
    "    padding='longest',\n",
    "    max_length=25,\n",
    "    truncation=True\n",
    ")"
   ]
  },
  {
   "cell_type": "code",
   "execution_count": 11,
   "metadata": {
    "execution": {
     "iopub.execute_input": "2025-04-17T11:33:03.897195Z",
     "iopub.status.busy": "2025-04-17T11:33:03.896957Z",
     "iopub.status.idle": "2025-04-17T11:33:03.902494Z",
     "shell.execute_reply": "2025-04-17T11:33:03.901613Z",
     "shell.execute_reply.started": "2025-04-17T11:33:03.897176Z"
    },
    "trusted": true
   },
   "outputs": [
    {
     "data": {
      "text/plain": [
       "dict_keys(['input_ids', 'token_type_ids', 'attention_mask'])"
      ]
     },
     "execution_count": 11,
     "metadata": {},
     "output_type": "execute_result"
    }
   ],
   "source": [
    "tokens_train.keys()"
   ]
  },
  {
   "cell_type": "code",
   "execution_count": 12,
   "metadata": {
    "execution": {
     "iopub.execute_input": "2025-04-17T11:33:03.903557Z",
     "iopub.status.busy": "2025-04-17T11:33:03.903303Z",
     "iopub.status.idle": "2025-04-17T11:33:04.205673Z",
     "shell.execute_reply": "2025-04-17T11:33:04.205030Z",
     "shell.execute_reply.started": "2025-04-17T11:33:03.903533Z"
    },
    "trusted": true
   },
   "outputs": [],
   "source": [
    "# Convert the lists to tensors\n",
    "train_seq = torch.tensor(tokens_train['input_ids'])\n",
    "train_mask = torch.tensor(tokens_train['attention_mask'])\n",
    "train_y = torch.tensor(train_df['label'].tolist())\n",
    "\n",
    "val_seq = torch.tensor(tokens_val['input_ids'])\n",
    "val_mask = torch.tensor(tokens_val['attention_mask'])\n",
    "val_y = torch.tensor(val_df['label'].tolist())\n",
    "\n",
    "test_seq = torch.tensor(tokens_test['input_ids'])\n",
    "test_mask = torch.tensor(tokens_test['attention_mask'])\n",
    "test_y = torch.tensor(test_df['label'].tolist())"
   ]
  },
  {
   "cell_type": "code",
   "execution_count": 13,
   "metadata": {
    "execution": {
     "iopub.execute_input": "2025-04-17T11:33:04.206741Z",
     "iopub.status.busy": "2025-04-17T11:33:04.206534Z",
     "iopub.status.idle": "2025-04-17T11:33:04.214732Z",
     "shell.execute_reply": "2025-04-17T11:33:04.213923Z",
     "shell.execute_reply.started": "2025-04-17T11:33:04.206723Z"
    },
    "trusted": true
   },
   "outputs": [],
   "source": [
    "# define a batch size\n",
    "batch_size = 32\n",
    "\n",
    "# wrap tensors\n",
    "train_data = TensorDataset(train_seq, train_mask, train_y)\n",
    "# sampler for sampling the data during training\n",
    "train_sampler = RandomSampler(train_data)\n",
    "# dataLoader for train set\n",
    "train_dataloader = DataLoader(train_data, sampler=train_sampler, batch_size=batch_size)\n",
    "\n",
    "\n",
    "# wrap tensors\n",
    "val_data = TensorDataset(val_seq, val_mask, val_y)\n",
    "# sampler for sampling the data during training\n",
    "val_sampler = SequentialSampler(val_data)\n",
    "# dataLoader for validation set\n",
    "val_dataloader = DataLoader(val_data, sampler=val_sampler, batch_size=batch_size)\n",
    "\n",
    "\n",
    "# wrap tensors\n",
    "test_data = TensorDataset(test_seq, test_mask, test_y)\n",
    "# sampler for sampling the data during training\n",
    "test_sampler = SequentialSampler(test_data)\n",
    "# dataLoader for validation set\n",
    "test_dataloader = DataLoader(test_data, sampler=test_sampler, batch_size=batch_size)"
   ]
  },
  {
   "cell_type": "markdown",
   "metadata": {},
   "source": [
    "## Model building"
   ]
  },
  {
   "cell_type": "code",
   "execution_count": 14,
   "metadata": {
    "execution": {
     "iopub.execute_input": "2025-04-17T11:33:04.215839Z",
     "iopub.status.busy": "2025-04-17T11:33:04.215553Z",
     "iopub.status.idle": "2025-04-17T11:33:06.101490Z",
     "shell.execute_reply": "2025-04-17T11:33:06.100826Z",
     "shell.execute_reply.started": "2025-04-17T11:33:04.215813Z"
    },
    "trusted": true
   },
   "outputs": [
    {
     "data": {
      "application/vnd.jupyter.widget-view+json": {
       "model_id": "c990425f538645709a99eb1735a7c3d2",
       "version_major": 2,
       "version_minor": 0
      },
      "text/plain": [
       "model.safetensors:   0%|          | 0.00/440M [00:00<?, ?B/s]"
      ]
     },
     "metadata": {},
     "output_type": "display_data"
    }
   ],
   "source": [
    "# import BERT-base pretrained model\n",
    "bert = BertModel.from_pretrained('bert-base-uncased')"
   ]
  },
  {
   "cell_type": "code",
   "execution_count": 15,
   "metadata": {
    "execution": {
     "iopub.execute_input": "2025-04-17T11:33:06.102615Z",
     "iopub.status.busy": "2025-04-17T11:33:06.102331Z",
     "iopub.status.idle": "2025-04-17T11:33:06.107775Z",
     "shell.execute_reply": "2025-04-17T11:33:06.106932Z",
     "shell.execute_reply.started": "2025-04-17T11:33:06.102588Z"
    },
    "trusted": true
   },
   "outputs": [
    {
     "name": "stdout",
     "output_type": "stream",
     "text": [
      "BertModel(\n",
      "  (embeddings): BertEmbeddings(\n",
      "    (word_embeddings): Embedding(30522, 768, padding_idx=0)\n",
      "    (position_embeddings): Embedding(512, 768)\n",
      "    (token_type_embeddings): Embedding(2, 768)\n",
      "    (LayerNorm): LayerNorm((768,), eps=1e-12, elementwise_affine=True)\n",
      "    (dropout): Dropout(p=0.1, inplace=False)\n",
      "  )\n",
      "  (encoder): BertEncoder(\n",
      "    (layer): ModuleList(\n",
      "      (0-11): 12 x BertLayer(\n",
      "        (attention): BertAttention(\n",
      "          (self): BertSdpaSelfAttention(\n",
      "            (query): Linear(in_features=768, out_features=768, bias=True)\n",
      "            (key): Linear(in_features=768, out_features=768, bias=True)\n",
      "            (value): Linear(in_features=768, out_features=768, bias=True)\n",
      "            (dropout): Dropout(p=0.1, inplace=False)\n",
      "          )\n",
      "          (output): BertSelfOutput(\n",
      "            (dense): Linear(in_features=768, out_features=768, bias=True)\n",
      "            (LayerNorm): LayerNorm((768,), eps=1e-12, elementwise_affine=True)\n",
      "            (dropout): Dropout(p=0.1, inplace=False)\n",
      "          )\n",
      "        )\n",
      "        (intermediate): BertIntermediate(\n",
      "          (dense): Linear(in_features=768, out_features=3072, bias=True)\n",
      "          (intermediate_act_fn): GELUActivation()\n",
      "        )\n",
      "        (output): BertOutput(\n",
      "          (dense): Linear(in_features=3072, out_features=768, bias=True)\n",
      "          (LayerNorm): LayerNorm((768,), eps=1e-12, elementwise_affine=True)\n",
      "          (dropout): Dropout(p=0.1, inplace=False)\n",
      "        )\n",
      "      )\n",
      "    )\n",
      "  )\n",
      "  (pooler): BertPooler(\n",
      "    (dense): Linear(in_features=768, out_features=768, bias=True)\n",
      "    (activation): Tanh()\n",
      "  )\n",
      ")\n"
     ]
    }
   ],
   "source": [
    "print(bert)"
   ]
  },
  {
   "cell_type": "code",
   "execution_count": null,
   "metadata": {
    "execution": {
     "iopub.execute_input": "2025-04-17T11:33:06.108952Z",
     "iopub.status.busy": "2025-04-17T11:33:06.108581Z",
     "iopub.status.idle": "2025-04-17T11:33:06.493813Z",
     "shell.execute_reply": "2025-04-17T11:33:06.492951Z",
     "shell.execute_reply.started": "2025-04-17T11:33:06.108906Z"
    },
    "trusted": true
   },
   "outputs": [],
   "source": [
    "class BERTModel(nn.Module):\n",
    "    def __init__(self, bert):\n",
    "        super(BERTModel, self).__init__()\n",
    "        for layer in list(bert.children())[:-1]:\n",
    "            for parameter in layer.parameters():\n",
    "                parameter.requires_grad = False\n",
    "        bert.pooler.dense = nn.Linear(in_features=768, out_features=len(label_encoding), bias=True)\n",
    "        self.bert = bert\n",
    "        self.softmax = nn.LogSoftmax(dim=1)\n",
    "        \n",
    "    def forward(self, sent_id, mask):\n",
    "        out = self.bert(sent_id, attention_mask=mask)\n",
    "        x = self.softmax(out.pooler_output)\n",
    "        return x\n",
    "\n",
    "model = BERTModel(bert)\n",
    "model = model.to(device)"
   ]
  },
  {
   "cell_type": "code",
   "execution_count": 17,
   "metadata": {
    "execution": {
     "iopub.execute_input": "2025-04-17T11:33:06.495059Z",
     "iopub.status.busy": "2025-04-17T11:33:06.494757Z",
     "iopub.status.idle": "2025-04-17T11:33:06.518141Z",
     "shell.execute_reply": "2025-04-17T11:33:06.517329Z",
     "shell.execute_reply.started": "2025-04-17T11:33:06.495037Z"
    },
    "trusted": true
   },
   "outputs": [
    {
     "name": "stdout",
     "output_type": "stream",
     "text": [
      "Class Weights: [0.8251323  1.18022226 1.06295329]\n"
     ]
    }
   ],
   "source": [
    "# Compute the class weights\n",
    "class_weights = compute_class_weight(\n",
    "    class_weight='balanced',\n",
    "    classes=train_y.unique().numpy(), \n",
    "    y=train_y.numpy()\n",
    ")\n",
    "\n",
    "print(\"Class Weights:\", class_weights)"
   ]
  },
  {
   "cell_type": "code",
   "execution_count": 18,
   "metadata": {
    "execution": {
     "iopub.execute_input": "2025-04-17T11:33:06.519195Z",
     "iopub.status.busy": "2025-04-17T11:33:06.518954Z",
     "iopub.status.idle": "2025-04-17T11:33:06.527712Z",
     "shell.execute_reply": "2025-04-17T11:33:06.526934Z",
     "shell.execute_reply.started": "2025-04-17T11:33:06.519165Z"
    },
    "trusted": true
   },
   "outputs": [],
   "source": [
    "# converting list of class weights to a tensor\n",
    "weights= torch.tensor(class_weights,dtype=torch.float)\n",
    "weights = weights.to(device)\n",
    "cross_entropy  = nn.NLLLoss(weight=weights) \n",
    "\n",
    "# define the optimizer\n",
    "optimizer = AdamW(model.parameters(), lr=5e-4)\n",
    "# number of training epochs\n",
    "epochs = 25"
   ]
  },
  {
   "cell_type": "markdown",
   "metadata": {},
   "source": [
    "## Training"
   ]
  },
  {
   "cell_type": "code",
   "execution_count": 19,
   "metadata": {
    "execution": {
     "iopub.execute_input": "2025-04-17T11:33:06.528725Z",
     "iopub.status.busy": "2025-04-17T11:33:06.528540Z",
     "iopub.status.idle": "2025-04-17T11:33:06.539170Z",
     "shell.execute_reply": "2025-04-17T11:33:06.538249Z",
     "shell.execute_reply.started": "2025-04-17T11:33:06.528708Z"
    },
    "trusted": true
   },
   "outputs": [],
   "source": [
    "def train():\n",
    "    model.train()\n",
    "    total_loss = 0\n",
    "    total_preds = []\n",
    "\n",
    "    progress_bar = tqdm(train_dataloader, desc=\"Training\")\n",
    "    for batch in progress_bar:\n",
    "        # Push batch to GPU\n",
    "        batch = [r.to(device) for r in batch]\n",
    "        sent_id, mask, labels = batch\n",
    "\n",
    "        # Clear previously calculated gradients\n",
    "        model.zero_grad()\n",
    "\n",
    "        # Get model predictions for the current batch\n",
    "        preds = model(sent_id, mask)\n",
    "\n",
    "        # Compute the loss\n",
    "        loss = cross_entropy(preds, labels)\n",
    "        total_loss += loss.item()\n",
    "\n",
    "        # Backward pass\n",
    "        loss.backward()\n",
    "\n",
    "        # Clip gradients to prevent exploding gradient problem\n",
    "        torch.nn.utils.clip_grad_norm_(model.parameters(), 1.0)\n",
    "\n",
    "        # Update parameters\n",
    "        optimizer.step()\n",
    "\n",
    "        # Move predictions to CPU and store them\n",
    "        preds = preds.detach().cpu().numpy()\n",
    "        total_preds.append(preds)\n",
    "\n",
    "        # Update tqdm progress bar with loss\n",
    "        progress_bar.set_postfix(loss=loss.item())\n",
    "\n",
    "    # Compute the average loss\n",
    "    avg_loss = total_loss / len(train_dataloader)\n",
    "\n",
    "    # Reshape predictions (no. of samples, no. of classes)\n",
    "    total_preds = np.concatenate(total_preds, axis=0)\n",
    "\n",
    "    return avg_loss, total_preds"
   ]
  },
  {
   "cell_type": "code",
   "execution_count": 20,
   "metadata": {
    "execution": {
     "iopub.execute_input": "2025-04-17T11:33:06.540128Z",
     "iopub.status.busy": "2025-04-17T11:33:06.539911Z",
     "iopub.status.idle": "2025-04-17T11:33:06.553700Z",
     "shell.execute_reply": "2025-04-17T11:33:06.553024Z",
     "shell.execute_reply.started": "2025-04-17T11:33:06.540111Z"
    },
    "trusted": true
   },
   "outputs": [],
   "source": [
    "def evaluate():\n",
    "    # Deactivate dropout layers\n",
    "    model.eval()\n",
    "    \n",
    "    total_loss = 0\n",
    "    total_preds = []\n",
    "\n",
    "    # Wrap val_dataloader with tqdm for progress tracking\n",
    "    progress_bar = tqdm(val_dataloader, desc=\"Evaluating\", leave=True)\n",
    "\n",
    "    for batch in progress_bar:\n",
    "        # Push batch to GPU\n",
    "        batch = [t.to(device) for t in batch]\n",
    "        sent_id, mask, labels = batch\n",
    "\n",
    "        # Deactivate autograd\n",
    "        with torch.no_grad():\n",
    "            # Get model predictions\n",
    "            preds = model(sent_id, mask)\n",
    "\n",
    "            # Compute validation loss\n",
    "            loss = cross_entropy(preds, labels)\n",
    "            total_loss += loss.item()\n",
    "\n",
    "            # Move predictions to CPU and store them\n",
    "            preds = preds.detach().cpu().numpy()\n",
    "            total_preds.append(preds)\n",
    "\n",
    "            # Update tqdm progress bar with loss\n",
    "            progress_bar.set_postfix(loss=loss.item())\n",
    "\n",
    "    # Compute the average validation loss\n",
    "    avg_loss = total_loss / len(val_dataloader)\n",
    "\n",
    "    # Reshape predictions (no. of samples, no. of classes)\n",
    "    total_preds = np.concatenate(total_preds, axis=0)\n",
    "\n",
    "    return avg_loss, total_preds"
   ]
  },
  {
   "cell_type": "code",
   "execution_count": 21,
   "metadata": {
    "execution": {
     "iopub.execute_input": "2025-04-17T11:33:06.554757Z",
     "iopub.status.busy": "2025-04-17T11:33:06.554529Z",
     "iopub.status.idle": "2025-04-17T11:44:08.212021Z",
     "shell.execute_reply": "2025-04-17T11:44:08.211167Z",
     "shell.execute_reply.started": "2025-04-17T11:33:06.554740Z"
    },
    "trusted": true
   },
   "outputs": [
    {
     "name": "stdout",
     "output_type": "stream",
     "text": [
      "\n",
      "Epoch 1/25\n"
     ]
    },
    {
     "name": "stderr",
     "output_type": "stream",
     "text": [
      "Training: 100%|██████████| 687/687 [00:21<00:00, 31.60it/s, loss=0.9]  \n",
      "Evaluating: 100%|██████████| 172/172 [00:04<00:00, 35.95it/s, loss=0.924]\n"
     ]
    },
    {
     "name": "stdout",
     "output_type": "stream",
     "text": [
      "Training Loss: 0.931 | Validation Loss: 0.862\n",
      "\n",
      "Epoch 2/25\n"
     ]
    },
    {
     "name": "stderr",
     "output_type": "stream",
     "text": [
      "Training: 100%|██████████| 687/687 [00:20<00:00, 32.76it/s, loss=0.788]\n",
      "Evaluating: 100%|██████████| 172/172 [00:04<00:00, 35.95it/s, loss=0.919]\n"
     ]
    },
    {
     "name": "stdout",
     "output_type": "stream",
     "text": [
      "Training Loss: 0.858 | Validation Loss: 0.837\n",
      "\n",
      "Epoch 3/25\n"
     ]
    },
    {
     "name": "stderr",
     "output_type": "stream",
     "text": [
      "Training: 100%|██████████| 687/687 [00:20<00:00, 32.76it/s, loss=0.916]\n",
      "Evaluating: 100%|██████████| 172/172 [00:04<00:00, 35.87it/s, loss=0.874]\n"
     ]
    },
    {
     "name": "stdout",
     "output_type": "stream",
     "text": [
      "Training Loss: 0.845 | Validation Loss: 0.817\n",
      "\n",
      "Epoch 4/25\n"
     ]
    },
    {
     "name": "stderr",
     "output_type": "stream",
     "text": [
      "Training: 100%|██████████| 687/687 [00:21<00:00, 32.50it/s, loss=0.894]\n",
      "Evaluating: 100%|██████████| 172/172 [00:04<00:00, 35.40it/s, loss=0.848]\n"
     ]
    },
    {
     "name": "stdout",
     "output_type": "stream",
     "text": [
      "Training Loss: 0.835 | Validation Loss: 0.811\n",
      "\n",
      "Epoch 5/25\n"
     ]
    },
    {
     "name": "stderr",
     "output_type": "stream",
     "text": [
      "Training: 100%|██████████| 687/687 [00:21<00:00, 32.41it/s, loss=0.965]\n",
      "Evaluating: 100%|██████████| 172/172 [00:04<00:00, 35.40it/s, loss=0.863]\n"
     ]
    },
    {
     "name": "stdout",
     "output_type": "stream",
     "text": [
      "Training Loss: 0.828 | Validation Loss: 0.804\n",
      "\n",
      "Epoch 6/25\n"
     ]
    },
    {
     "name": "stderr",
     "output_type": "stream",
     "text": [
      "Training: 100%|██████████| 687/687 [00:21<00:00, 32.43it/s, loss=0.796]\n",
      "Evaluating: 100%|██████████| 172/172 [00:04<00:00, 35.66it/s, loss=0.878]\n"
     ]
    },
    {
     "name": "stdout",
     "output_type": "stream",
     "text": [
      "Training Loss: 0.825 | Validation Loss: 0.801\n",
      "\n",
      "Epoch 7/25\n"
     ]
    },
    {
     "name": "stderr",
     "output_type": "stream",
     "text": [
      "Training: 100%|██████████| 687/687 [00:20<00:00, 32.88it/s, loss=0.777]\n",
      "Evaluating: 100%|██████████| 172/172 [00:04<00:00, 35.61it/s, loss=0.922]\n"
     ]
    },
    {
     "name": "stdout",
     "output_type": "stream",
     "text": [
      "Training Loss: 0.821 | Validation Loss: 0.804\n",
      "\n",
      "Epoch 8/25\n"
     ]
    },
    {
     "name": "stderr",
     "output_type": "stream",
     "text": [
      "Training: 100%|██████████| 687/687 [00:20<00:00, 32.88it/s, loss=0.677]\n",
      "Evaluating: 100%|██████████| 172/172 [00:04<00:00, 35.58it/s, loss=0.873]\n"
     ]
    },
    {
     "name": "stdout",
     "output_type": "stream",
     "text": [
      "Training Loss: 0.818 | Validation Loss: 0.796\n",
      "\n",
      "Epoch 9/25\n"
     ]
    },
    {
     "name": "stderr",
     "output_type": "stream",
     "text": [
      "Training: 100%|██████████| 687/687 [00:20<00:00, 32.86it/s, loss=0.743]\n",
      "Evaluating: 100%|██████████| 172/172 [00:04<00:00, 35.70it/s, loss=0.906]\n"
     ]
    },
    {
     "name": "stdout",
     "output_type": "stream",
     "text": [
      "Training Loss: 0.817 | Validation Loss: 0.798\n",
      "\n",
      "Epoch 10/25\n"
     ]
    },
    {
     "name": "stderr",
     "output_type": "stream",
     "text": [
      "Training: 100%|██████████| 687/687 [00:21<00:00, 32.27it/s, loss=0.737]\n",
      "Evaluating: 100%|██████████| 172/172 [00:04<00:00, 35.63it/s, loss=0.919]\n"
     ]
    },
    {
     "name": "stdout",
     "output_type": "stream",
     "text": [
      "Training Loss: 0.812 | Validation Loss: 0.796\n",
      "\n",
      "Epoch 11/25\n"
     ]
    },
    {
     "name": "stderr",
     "output_type": "stream",
     "text": [
      "Training: 100%|██████████| 687/687 [00:20<00:00, 32.87it/s, loss=0.797]\n",
      "Evaluating: 100%|██████████| 172/172 [00:04<00:00, 35.74it/s, loss=0.913]\n"
     ]
    },
    {
     "name": "stdout",
     "output_type": "stream",
     "text": [
      "Training Loss: 0.811 | Validation Loss: 0.797\n",
      "\n",
      "Epoch 12/25\n"
     ]
    },
    {
     "name": "stderr",
     "output_type": "stream",
     "text": [
      "Training: 100%|██████████| 687/687 [00:20<00:00, 32.88it/s, loss=0.828]\n",
      "Evaluating: 100%|██████████| 172/172 [00:04<00:00, 35.71it/s, loss=0.898]\n"
     ]
    },
    {
     "name": "stdout",
     "output_type": "stream",
     "text": [
      "Training Loss: 0.812 | Validation Loss: 0.791\n",
      "\n",
      "Epoch 13/25\n"
     ]
    },
    {
     "name": "stderr",
     "output_type": "stream",
     "text": [
      "Training: 100%|██████████| 687/687 [00:20<00:00, 32.80it/s, loss=0.826]\n",
      "Evaluating: 100%|██████████| 172/172 [00:04<00:00, 35.71it/s, loss=0.907]\n"
     ]
    },
    {
     "name": "stdout",
     "output_type": "stream",
     "text": [
      "Training Loss: 0.812 | Validation Loss: 0.793\n",
      "\n",
      "Epoch 14/25\n"
     ]
    },
    {
     "name": "stderr",
     "output_type": "stream",
     "text": [
      "Training: 100%|██████████| 687/687 [00:20<00:00, 32.90it/s, loss=0.843]\n",
      "Evaluating: 100%|██████████| 172/172 [00:04<00:00, 35.54it/s, loss=0.873]\n"
     ]
    },
    {
     "name": "stdout",
     "output_type": "stream",
     "text": [
      "Training Loss: 0.810 | Validation Loss: 0.788\n",
      "\n",
      "Epoch 15/25\n"
     ]
    },
    {
     "name": "stderr",
     "output_type": "stream",
     "text": [
      "Training: 100%|██████████| 687/687 [00:20<00:00, 32.95it/s, loss=0.808]\n",
      "Evaluating: 100%|██████████| 172/172 [00:04<00:00, 35.77it/s, loss=0.886]\n"
     ]
    },
    {
     "name": "stdout",
     "output_type": "stream",
     "text": [
      "Training Loss: 0.809 | Validation Loss: 0.786\n",
      "\n",
      "Epoch 16/25\n"
     ]
    },
    {
     "name": "stderr",
     "output_type": "stream",
     "text": [
      "Training: 100%|██████████| 687/687 [00:20<00:00, 32.88it/s, loss=0.923]\n",
      "Evaluating: 100%|██████████| 172/172 [00:04<00:00, 35.71it/s, loss=0.879]\n"
     ]
    },
    {
     "name": "stdout",
     "output_type": "stream",
     "text": [
      "Training Loss: 0.808 | Validation Loss: 0.791\n",
      "\n",
      "Epoch 17/25\n"
     ]
    },
    {
     "name": "stderr",
     "output_type": "stream",
     "text": [
      "Training: 100%|██████████| 687/687 [00:21<00:00, 32.47it/s, loss=0.872]\n",
      "Evaluating: 100%|██████████| 172/172 [00:04<00:00, 35.66it/s, loss=0.916]\n"
     ]
    },
    {
     "name": "stdout",
     "output_type": "stream",
     "text": [
      "Training Loss: 0.807 | Validation Loss: 0.790\n",
      "\n",
      "Epoch 18/25\n"
     ]
    },
    {
     "name": "stderr",
     "output_type": "stream",
     "text": [
      "Training: 100%|██████████| 687/687 [00:21<00:00, 32.67it/s, loss=0.637]\n",
      "Evaluating: 100%|██████████| 172/172 [00:04<00:00, 35.48it/s, loss=0.937]\n"
     ]
    },
    {
     "name": "stdout",
     "output_type": "stream",
     "text": [
      "Training Loss: 0.803 | Validation Loss: 0.791\n",
      "\n",
      "Epoch 19/25\n"
     ]
    },
    {
     "name": "stderr",
     "output_type": "stream",
     "text": [
      "Training: 100%|██████████| 687/687 [00:21<00:00, 32.59it/s, loss=0.851]\n",
      "Evaluating: 100%|██████████| 172/172 [00:04<00:00, 35.66it/s, loss=0.914]\n"
     ]
    },
    {
     "name": "stdout",
     "output_type": "stream",
     "text": [
      "Training Loss: 0.807 | Validation Loss: 0.787\n",
      "\n",
      "Epoch 20/25\n"
     ]
    },
    {
     "name": "stderr",
     "output_type": "stream",
     "text": [
      "Training: 100%|██████████| 687/687 [00:20<00:00, 32.72it/s, loss=0.782]\n",
      "Evaluating: 100%|██████████| 172/172 [00:04<00:00, 35.39it/s, loss=0.926]\n"
     ]
    },
    {
     "name": "stdout",
     "output_type": "stream",
     "text": [
      "Training Loss: 0.805 | Validation Loss: 0.786\n",
      "\n",
      "Epoch 21/25\n"
     ]
    },
    {
     "name": "stderr",
     "output_type": "stream",
     "text": [
      "Training: 100%|██████████| 687/687 [00:21<00:00, 32.62it/s, loss=0.579]\n",
      "Evaluating: 100%|██████████| 172/172 [00:04<00:00, 35.38it/s, loss=0.909]\n"
     ]
    },
    {
     "name": "stdout",
     "output_type": "stream",
     "text": [
      "Training Loss: 0.803 | Validation Loss: 0.785\n",
      "\n",
      "Epoch 22/25\n"
     ]
    },
    {
     "name": "stderr",
     "output_type": "stream",
     "text": [
      "Training: 100%|██████████| 687/687 [00:21<00:00, 32.64it/s, loss=0.641]\n",
      "Evaluating: 100%|██████████| 172/172 [00:04<00:00, 35.71it/s, loss=0.914]\n"
     ]
    },
    {
     "name": "stdout",
     "output_type": "stream",
     "text": [
      "Training Loss: 0.803 | Validation Loss: 0.785\n",
      "\n",
      "Epoch 23/25\n"
     ]
    },
    {
     "name": "stderr",
     "output_type": "stream",
     "text": [
      "Training: 100%|██████████| 687/687 [00:20<00:00, 32.88it/s, loss=0.799]\n",
      "Evaluating: 100%|██████████| 172/172 [00:04<00:00, 35.64it/s, loss=0.928]\n"
     ]
    },
    {
     "name": "stdout",
     "output_type": "stream",
     "text": [
      "Training Loss: 0.803 | Validation Loss: 0.785\n",
      "\n",
      "Epoch 24/25\n"
     ]
    },
    {
     "name": "stderr",
     "output_type": "stream",
     "text": [
      "Training: 100%|██████████| 687/687 [00:20<00:00, 32.91it/s, loss=0.651]\n",
      "Evaluating: 100%|██████████| 172/172 [00:04<00:00, 35.72it/s, loss=0.918]\n"
     ]
    },
    {
     "name": "stdout",
     "output_type": "stream",
     "text": [
      "Training Loss: 0.806 | Validation Loss: 0.784\n",
      "\n",
      "Epoch 25/25\n"
     ]
    },
    {
     "name": "stderr",
     "output_type": "stream",
     "text": [
      "Training: 100%|██████████| 687/687 [00:20<00:00, 32.85it/s, loss=0.727]\n",
      "Evaluating: 100%|██████████| 172/172 [00:04<00:00, 35.72it/s, loss=0.914]"
     ]
    },
    {
     "name": "stdout",
     "output_type": "stream",
     "text": [
      "Training Loss: 0.805 | Validation Loss: 0.787\n"
     ]
    },
    {
     "name": "stderr",
     "output_type": "stream",
     "text": [
      "\n"
     ]
    }
   ],
   "source": [
    "# Set initial best validation loss to infinite\n",
    "best_valid_loss = float('inf')\n",
    "\n",
    "# Lists to store training and validation loss of each epoch\n",
    "train_losses = []\n",
    "valid_losses = []\n",
    "\n",
    "# Training loop with tqdm progress bar\n",
    "for epoch in range(epochs):\n",
    "    print(f\"\\nEpoch {epoch + 1}/{epochs}\")\n",
    "\n",
    "    # Train model with progress tracking\n",
    "    train_loss, _ = train()\n",
    "\n",
    "    # Evaluate model with progress tracking\n",
    "    valid_loss, _ = evaluate()\n",
    "\n",
    "    # Save the best model\n",
    "    if valid_loss < best_valid_loss:\n",
    "        best_valid_loss = valid_loss\n",
    "        torch.save(model.state_dict(), '/kaggle/working/bert_model.pth')\n",
    "\n",
    "    # Append training and validation loss\n",
    "    train_losses.append(train_loss)\n",
    "    valid_losses.append(valid_loss)\n",
    "\n",
    "    # Display epoch summary with tqdm-style formatting\n",
    "    print(f\"Training Loss: {train_loss:.3f} | Validation Loss: {valid_loss:.3f}\")\n"
   ]
  },
  {
   "cell_type": "code",
   "execution_count": 22,
   "metadata": {
    "execution": {
     "iopub.execute_input": "2025-04-17T11:44:08.213131Z",
     "iopub.status.busy": "2025-04-17T11:44:08.212856Z",
     "iopub.status.idle": "2025-04-17T11:44:08.638774Z",
     "shell.execute_reply": "2025-04-17T11:44:08.637965Z",
     "shell.execute_reply.started": "2025-04-17T11:44:08.213110Z"
    },
    "trusted": true
   },
   "outputs": [
    {
     "data": {
      "image/png": "[encoded data removed]",
      "text/plain": [
       "<Figure size 1000x500 with 1 Axes>"
      ]
     },
     "metadata": {},
     "output_type": "display_data"
    }
   ],
   "source": [
    "# Plotting the losses\n",
    "plt.figure(figsize=(10, 5))\n",
    "plt.plot(range(1, epochs + 1), train_losses, label='Train Loss', marker='o')\n",
    "plt.plot(range(1, epochs + 1), valid_losses, label='Validation Loss', marker='o')\n",
    "plt.xticks(range(1, epochs + 1))\n",
    "plt.xlabel('Epochs')\n",
    "plt.ylabel('Loss')\n",
    "plt.title('Training & Validation Loss')\n",
    "plt.legend()\n",
    "plt.show()"
   ]
  },
  {
   "cell_type": "code",
   "execution_count": 23,
   "metadata": {
    "execution": {
     "iopub.execute_input": "2025-04-17T11:44:08.641372Z",
     "iopub.status.busy": "2025-04-17T11:44:08.641160Z",
     "iopub.status.idle": "2025-04-17T11:44:11.525769Z",
     "shell.execute_reply": "2025-04-17T11:44:11.524971Z",
     "shell.execute_reply.started": "2025-04-17T11:44:08.641353Z"
    },
    "trusted": true
   },
   "outputs": [
    {
     "name": "stdout",
     "output_type": "stream",
     "text": [
      "              precision    recall  f1-score   support\n",
      "\n",
      "           0       0.70      0.49      0.58      1430\n",
      "           1       0.60      0.76      0.67      1001\n",
      "           2       0.65      0.75      0.70      1103\n",
      "\n",
      "    accuracy                           0.65      3534\n",
      "   macro avg       0.65      0.67      0.65      3534\n",
      "weighted avg       0.66      0.65      0.64      3534\n",
      "\n"
     ]
    }
   ],
   "source": [
    "#load weights of best model\n",
    "path = '/kaggle/working/bert_model.pth'\n",
    "model.load_state_dict(torch.load(path))\n",
    "\n",
    "# get predictions for test data\n",
    "with torch.no_grad():\n",
    "  preds = model(test_seq.to(device), test_mask.to(device))\n",
    "  preds = preds.detach().cpu().numpy()\n",
    "\n",
    "preds = np.argmax(preds, axis = 1)\n",
    "print(classification_report(test_y, preds))"
   ]
  },
  {
   "cell_type": "code",
   "execution_count": null,
   "metadata": {
    "trusted": true
   },
   "outputs": [],
   "source": []
  }
 ],
 "metadata": {
  "kaggle": {
   "accelerator": "gpu",
   "dataSources": [
    {
     "datasetId": 989445,
     "sourceId": 1808590,
     "sourceType": "datasetVersion"
    },
    {
     "datasetId": 4796447,
     "sourceId": 8118245,
     "sourceType": "datasetVersion"
    }
   ],
   "dockerImageVersionId": 30918,
   "isGpuEnabled": true,
   "isInternetEnabled": true,
   "language": "python",
   "sourceType": "notebook"
  },
  "kernelspec": {
   "display_name": "Python 3",
   "language": "python",
   "name": "python3"
  },
  "language_info": {
   "codemirror_mode": {
    "name": "ipython",
    "version": 3
   },
   "file_extension": ".py",
   "mimetype": "text/x-python",
   "name": "python",
   "nbconvert_exporter": "python",
   "pygments_lexer": "ipython3",
   "version": "3.10.12"
  }
 },
 "nbformat": 4,
 "nbformat_minor": 4
}
