{
 "cells": [
  {
   "cell_type": "code",
   "execution_count": 1,
   "metadata": {},
   "outputs": [
    {
     "name": "stdout",
     "output_type": "stream",
     "text": [
      "Initialized DVC repository.\n",
      "\n",
      "\u001b[31m+---------------------------------------------------------------------+\n",
      "\u001b[0m\u001b[31m|\u001b[0m                                                                     \u001b[31m|\u001b[0m\n",
      "\u001b[31m|\u001b[0m        DVC has enabled anonymous aggregate usage analytics.         \u001b[31m|\u001b[0m\n",
      "\u001b[31m|\u001b[0m     Read the analytics documentation (and how to opt-out) here:     \u001b[31m|\u001b[0m\n",
      "\u001b[31m|\u001b[0m             <\u001b[36mhttps://dvc.org/doc/user-guide/analytics\u001b[39m>              \u001b[31m|\u001b[0m\n",
      "\u001b[31m|\u001b[0m                                                                     \u001b[31m|\u001b[0m\n",
      "\u001b[31m+---------------------------------------------------------------------+\n",
      "\u001b[0m\n",
      "\u001b[33mWhat's next?\u001b[39m\n",
      "\u001b[33m------------\u001b[39m\n",
      "- Check out the documentation: <\u001b[36mhttps://dvc.org/doc\u001b[39m>\n",
      "- Get help and share ideas: <\u001b[36mhttps://dvc.org/chat\u001b[39m>\n",
      "- Star us on GitHub: <\u001b[36mhttps://github.com/iterative/dvc\u001b[39m>\n",
      "\u001b[0m"
     ]
    }
   ],
   "source": [
    "# Initializing DVC \n",
    "!dvc init --no-scm"
   ]
  },
  {
   "cell_type": "code",
   "execution_count": 5,
   "metadata": {},
   "outputs": [],
   "source": [
    "!echo .dvc >> .gitignore\n",
    "!echo .dvcignore >> .gitignore"
   ]
  },
  {
   "cell_type": "code",
   "execution_count": 2,
   "metadata": {},
   "outputs": [
    {
     "name": "stdout",
     "output_type": "stream",
     "text": [
      "[main c34a2e2] DVC initialized\n",
      " 1 file changed, 908 insertions(+)\n",
      " create mode 100644 Assignment-2/prepare.ipynb\n",
      "Enumerating objects: 5, done.\n",
      "Counting objects: 100% (5/5), done.\n",
      "Delta compression using up to 8 threads\n",
      "Compressing objects: 100% (3/3), done.\n",
      "Writing objects: 100% (4/4), 4.61 KiB | 2.31 MiB/s, done.\n",
      "Total 4 (delta 0), reused 0 (delta 0), pack-reused 0\n",
      "To github.com:mkreman/AppliedMachineLearning.git\n",
      "   7d59cce..c34a2e2  main -> main\n"
     ]
    }
   ],
   "source": [
    "# Initial Commit\n",
    "!git add .\n",
    "!git commit -m \"DVC initialized\"\n",
    "!git push --all"
   ]
  },
  {
   "cell_type": "code",
   "execution_count": 1,
   "metadata": {},
   "outputs": [
    {
     "data": {
      "text/plain": [
       "True"
      ]
     },
     "execution_count": 1,
     "metadata": {},
     "output_type": "execute_result"
    }
   ],
   "source": [
    "import nltk\n",
    "from nltk.corpus import stopwords\n",
    "import string\n",
    "import pandas as pd\n",
    "import matplotlib.pyplot as plt\n",
    "from sklearn.model_selection import train_test_split\n",
    "import os\n",
    "import csv\n",
    "from dotenv import load_dotenv\n",
    "\n",
    "load_dotenv('../.env')"
   ]
  },
  {
   "cell_type": "code",
   "execution_count": 2,
   "metadata": {},
   "outputs": [
    {
     "data": {
      "text/html": [
       "<div>\n",
       "<style scoped>\n",
       "    .dataframe tbody tr th:only-of-type {\n",
       "        vertical-align: middle;\n",
       "    }\n",
       "\n",
       "    .dataframe tbody tr th {\n",
       "        vertical-align: top;\n",
       "    }\n",
       "\n",
       "    .dataframe thead th {\n",
       "        text-align: right;\n",
       "    }\n",
       "</style>\n",
       "<table border=\"1\" class=\"dataframe\">\n",
       "  <thead>\n",
       "    <tr style=\"text-align: right;\">\n",
       "      <th></th>\n",
       "      <th>label</th>\n",
       "      <th>sms</th>\n",
       "    </tr>\n",
       "  </thead>\n",
       "  <tbody>\n",
       "    <tr>\n",
       "      <th>0</th>\n",
       "      <td>ham</td>\n",
       "      <td>Go until jurong point, crazy.. Available only ...</td>\n",
       "    </tr>\n",
       "    <tr>\n",
       "      <th>1</th>\n",
       "      <td>ham</td>\n",
       "      <td>Ok lar... Joking wif u oni...</td>\n",
       "    </tr>\n",
       "    <tr>\n",
       "      <th>2</th>\n",
       "      <td>spam</td>\n",
       "      <td>Free entry in 2 a wkly comp to win FA Cup fina...</td>\n",
       "    </tr>\n",
       "    <tr>\n",
       "      <th>3</th>\n",
       "      <td>ham</td>\n",
       "      <td>U dun say so early hor... U c already then say...</td>\n",
       "    </tr>\n",
       "    <tr>\n",
       "      <th>4</th>\n",
       "      <td>ham</td>\n",
       "      <td>Nah I don't think he goes to usf, he lives aro...</td>\n",
       "    </tr>\n",
       "    <tr>\n",
       "      <th>...</th>\n",
       "      <td>...</td>\n",
       "      <td>...</td>\n",
       "    </tr>\n",
       "    <tr>\n",
       "      <th>5569</th>\n",
       "      <td>spam</td>\n",
       "      <td>This is the 2nd time we have tried 2 contact u...</td>\n",
       "    </tr>\n",
       "    <tr>\n",
       "      <th>5570</th>\n",
       "      <td>ham</td>\n",
       "      <td>Will ü b going to esplanade fr home?</td>\n",
       "    </tr>\n",
       "    <tr>\n",
       "      <th>5571</th>\n",
       "      <td>ham</td>\n",
       "      <td>Pity, * was in mood for that. So...any other s...</td>\n",
       "    </tr>\n",
       "    <tr>\n",
       "      <th>5572</th>\n",
       "      <td>ham</td>\n",
       "      <td>The guy did some bitching but I acted like i'd...</td>\n",
       "    </tr>\n",
       "    <tr>\n",
       "      <th>5573</th>\n",
       "      <td>ham</td>\n",
       "      <td>Rofl. Its true to its name</td>\n",
       "    </tr>\n",
       "  </tbody>\n",
       "</table>\n",
       "<p>5574 rows × 2 columns</p>\n",
       "</div>"
      ],
      "text/plain": [
       "     label                                                sms\n",
       "0      ham  Go until jurong point, crazy.. Available only ...\n",
       "1      ham                      Ok lar... Joking wif u oni...\n",
       "2     spam  Free entry in 2 a wkly comp to win FA Cup fina...\n",
       "3      ham  U dun say so early hor... U c already then say...\n",
       "4      ham  Nah I don't think he goes to usf, he lives aro...\n",
       "...    ...                                                ...\n",
       "5569  spam  This is the 2nd time we have tried 2 contact u...\n",
       "5570   ham               Will ü b going to esplanade fr home?\n",
       "5571   ham  Pity, * was in mood for that. So...any other s...\n",
       "5572   ham  The guy did some bitching but I acted like i'd...\n",
       "5573   ham                         Rofl. Its true to its name\n",
       "\n",
       "[5574 rows x 2 columns]"
      ]
     },
     "execution_count": 2,
     "metadata": {},
     "output_type": "execute_result"
    }
   ],
   "source": [
    "# Reading the file\n",
    "raw_data = pd.read_csv(\n",
    "    '../Assignment-1/sms+spam+collection/SMSSpamCollection', \n",
    "    sep='\\t', \n",
    "    names=['label', 'sms'],\n",
    "    quoting=csv.QUOTE_NONE,\n",
    ")\n",
    "raw_data"
   ]
  },
  {
   "cell_type": "markdown",
   "metadata": {},
   "source": [
    "### Creating initial dataset"
   ]
  },
  {
   "cell_type": "code",
   "execution_count": 3,
   "metadata": {},
   "outputs": [
    {
     "data": {
      "text/plain": [
       "((4180, 2), (697, 2), (697, 2))"
      ]
     },
     "execution_count": 3,
     "metadata": {},
     "output_type": "execute_result"
    }
   ],
   "source": [
    "# Splitting the dataset into train, valid and test datasets\n",
    "train, temp = train_test_split(range(len(raw_data)), test_size=0.25, random_state=0)\n",
    "valid, test = train_test_split(temp, test_size=0.5, random_state=0)\n",
    "train_df = raw_data.iloc[train, :]\n",
    "valid_df = raw_data.iloc[valid, :]\n",
    "test_df = raw_data.iloc[test, :]\n",
    "train_df.shape, valid_df.shape, test_df.shape"
   ]
  },
  {
   "cell_type": "code",
   "execution_count": 4,
   "metadata": {},
   "outputs": [],
   "source": [
    "# Saving the datasets into csv files\n",
    "train_df.to_csv('./train.csv', index=False)\n",
    "valid_df.to_csv('./valid.csv', index=False)\n",
    "test_df.to_csv('./test.csv', index=False)"
   ]
  },
  {
   "cell_type": "code",
   "execution_count": 5,
   "metadata": {},
   "outputs": [
    {
     "name": "stdout",
     "output_type": "stream",
     "text": [
      "\u001b[?25l\u001b[32m⠋\u001b[0m Checking graph                                       core\u001b[39m>\n",
      "  0% Adding...|                          | train.csv |0/3 [00:00<?,     ?file/s]\n",
      "!\u001b[A\n",
      "Collecting files and computing hashes in train.csv    |0.00 [00:00,     ?file/s]\u001b[A\n",
      "                                                                                \u001b[A\n",
      "!\u001b[A\n",
      "  0% Checking cache in '/mnt/win/Users/MkReman/Gdrive/GoodNotes/CMI Data Science\u001b[A\n",
      "                                                                                \u001b[A\n",
      "!\u001b[A\n",
      "  0%|          |Checking out /mnt/win/Users/MkReman/Gd0/1 [00:00<?,    ?files/s]\u001b[A\n",
      "  0% Adding...|                          | valid.csv |0/3 [00:00<?,     ?file/s]\u001b[A\n",
      "!\u001b[A\n",
      "Collecting files and computing hashes in valid.csv    |0.00 [00:00,     ?file/s]\u001b[A\n",
      "                                                                                \u001b[A\n",
      "!\u001b[A\n",
      "  0% Checking cache in '/mnt/win/Users/MkReman/Gdrive/GoodNotes/CMI Data Science\u001b[A\n",
      "                                                                                \u001b[A\n",
      "!\u001b[A\n",
      "  0%|          |Checking out /mnt/win/Users/MkReman/Gd0/1 [00:00<?,    ?files/s]\u001b[A\n",
      " 67% Adding...|███████████████▎       | test.csv |2/3 [00:00<00:00, 11.72file/s]\u001b[A\n",
      "!\u001b[A\n",
      "Collecting files and computing hashes in test.csv     |0.00 [00:00,     ?file/s]\u001b[A\n",
      "                                                                                \u001b[A\n",
      "!\u001b[A\n",
      "  0% Checking cache in '/mnt/win/Users/MkReman/Gdrive/GoodNotes/CMI Data Science\u001b[A\n",
      "                                                                                \u001b[A\n",
      "!\u001b[A\n",
      "  0%|          |Checking out /mnt/win/Users/MkReman/Gd0/1 [00:00<?,    ?files/s]\u001b[A\n",
      "100% Adding...|████████████████████████████████████████|3/3 [00:00, 13.06file/s]\u001b[A\n",
      "\u001b[0m"
     ]
    }
   ],
   "source": [
    "# Tracking the dataset using DVC\n",
    "!dvc add train.csv valid.csv test.csv"
   ]
  },
  {
   "cell_type": "markdown",
   "metadata": {},
   "source": [
    "Setting up a google drive folder as a remote backup"
   ]
  },
  {
   "cell_type": "code",
   "execution_count": 6,
   "metadata": {},
   "outputs": [],
   "source": [
    "# Getting the credentials\n",
    "drive_link = os.getenv('drive_link')\n",
    "gdrive_client_id = os.getenv(\"gdrive_client_id\")\n",
    "gdrive_client_secret = os.getenv(\"gdrive_client_secret\")"
   ]
  },
  {
   "cell_type": "code",
   "execution_count": 7,
   "metadata": {},
   "outputs": [
    {
     "name": "stdout",
     "output_type": "stream",
     "text": [
      "Setting 'gdrive_remote' as a default remote.\n",
      "\u001b[0m"
     ]
    }
   ],
   "source": [
    "!dvc remote add -d -f gdrive_remote gdrive://{drive_link}"
   ]
  },
  {
   "cell_type": "markdown",
   "metadata": {},
   "source": [
    "Setting up google cloud credentials for accessing the folder"
   ]
  },
  {
   "cell_type": "code",
   "execution_count": 8,
   "metadata": {},
   "outputs": [
    {
     "name": "stdout",
     "output_type": "stream",
     "text": [
      "\u001b[0m\u001b[0m"
     ]
    }
   ],
   "source": [
    "!dvc remote modify gdrive_remote gdrive_client_id {gdrive_client_id}\n",
    "!dvc remote modify gdrive_remote gdrive_client_secret {gdrive_client_secret}"
   ]
  },
  {
   "cell_type": "code",
   "execution_count": 10,
   "metadata": {},
   "outputs": [
    {
     "name": "stdout",
     "output_type": "stream",
     "text": [
      "Collecting                                            |0.00 [00:00,    ?entry/s]\n",
      "Pushing\n",
      "!\u001b[A\n",
      "  0% Checking cache in '1vSoPb-j-HEenlTAyMpz57y2L2I_y1QZp/files/md5'| |0/? [00:0\u001b[A/home/mkreman/miniconda3/lib/python3.12/site-packages/oauth2client/_helpers.py:255: UserWarning: Cannot access /home/mkreman/.cache/pydrive2fs/494813092837-0t9djn8vjgi9rs35jljjklo1ce6jnjpg.apps.googleusercontent.com/default.json: No such file or directory\n",
      "  warnings.warn(_MISSING_FILE_MESSAGE.format(filename))\n",
      "Your browser has been opened to visit:\n",
      "\n",
      "    https://accounts.google.com/o/oauth2/auth?client_id=494813092837-0t9djn8vjgi9rs35jljjklo1ce6jnjpg.apps.googleusercontent.com&redirect_uri=http%3A%2F%2Flocalhost%3A8080%2F&scope=https%3A%2F%2Fwww.googleapis.com%2Fauth%2Fdrive+https%3A%2F%2Fwww.googleapis.com%2Fauth%2Fdrive.appdata&access_type=offline&response_type=code&approval_prompt=force\n",
      "\n",
      "Opening in existing browser session.\n",
      "Authentication successful.\n",
      "\n",
      "                                                                                \u001b[A\n",
      "!\u001b[A\n",
      "  0% Checking cache in '/mnt/win/Users/MkReman/Gdrive/GoodNotes/CMI Data Science\u001b[A\n",
      "                                                                                \u001b[A\n",
      "!\u001b[A\n",
      "  0%|          |Pushing to gdrive                     0/3 [00:00<?,     ?file/s]\u001b[A\n",
      "  0%|          |Pushing to gdrive                     0/3 [00:00<?,     ?file/s]\u001b[A\n",
      "\n",
      "!\u001b[A\u001b[A\n",
      "\n",
      "  0%|          |/mnt/win/Users/MkReman/Gdrive/G0.00/58.8k [00:00<?,        ?B/s]\u001b[A\u001b[A\n",
      "\n",
      " 14%|█▎        |/mnt/win/Users/MkReman/Gdr8.00k/58.8k [00:05<00:33,    1.54kB/s]\u001b[A\u001b[A\n",
      "\n",
      "                                                                                \u001b[A\u001b[A\n",
      " 33%|███▎      |Pushing to gdrive                 1/3 [00:07<00:13,  6.98s/file]\u001b[A\n",
      "\n",
      "!\u001b[A\u001b[A\n",
      "\n",
      "  0%|          |/mnt/win/Users/MkReman/Gdrive/G0.00/59.5k [00:00<?,        ?B/s]\u001b[A\u001b[A\n",
      "\n",
      "\n",
      "!\u001b[A\u001b[A\u001b[A\n",
      "\n",
      "\n",
      "  0%|          |/mnt/win/Users/MkReman/Gdrive/Go0.00/351k [00:00<?,        ?B/s]\u001b[A\u001b[A\u001b[A\n",
      "\n",
      " 13%|█▎        |/mnt/win/Users/MkReman/Gdr8.00k/59.5k [00:02<00:16,    3.21kB/s]\u001b[A\u001b[A\n",
      "\n",
      "\n",
      "  2%|▏         |/mnt/win/Users/MkReman/Gdri8.00k/351k [00:03<02:31,    2.32kB/s]\u001b[A\u001b[A\u001b[A\n",
      "\n",
      "                                                                                \u001b[A\u001b[A\n",
      " 67%|██████▋   |Pushing to gdrive                 2/3 [00:11<00:05,  5.40s/file]\u001b[A\n",
      "\n",
      "\n",
      "                                                                                \u001b[A\u001b[A\u001b[A\n",
      "100%|██████████|Pushing to gdrive                 3/3 [00:12<00:00,  3.40s/file]\u001b[A\n",
      "Pushing                                                                         \u001b[A\n",
      "3 files pushed\n",
      "\u001b[0m"
     ]
    }
   ],
   "source": [
    "# Pushing the dataset in google drive folder using DVC\n",
    "!dvc push"
   ]
  },
  {
   "cell_type": "code",
   "execution_count": null,
   "metadata": {},
   "outputs": [],
   "source": [
    "# We don't want dataset to be uploaded in GitHub.\n",
    "# Dataset is being tracked by DVC\n",
    "!echo train.csv >> .gitignore\n",
    "!echo valid.csv >> .gitignore\n",
    "!echo test.csv >> .gitignore"
   ]
  },
  {
   "cell_type": "code",
   "execution_count": null,
   "metadata": {},
   "outputs": [
    {
     "name": "stdout",
     "output_type": "stream",
     "text": [
      "[main 60a028f] random-state-0\n",
      " 4 files changed, 149 insertions(+), 59 deletions(-)\n",
      " create mode 100644 test.csv.dvc\n",
      " create mode 100644 train.csv.dvc\n",
      " create mode 100644 valid.csv.dvc\n",
      "Enumerating objects: 8, done.\n",
      "Counting objects: 100% (8/8), done.\n",
      "Delta compression using up to 8 threads\n",
      "Compressing objects: 100% (6/6), done.\n",
      "Writing objects: 100% (6/6), 1.93 KiB | 395.00 KiB/s, done.\n",
      "Total 6 (delta 1), reused 0 (delta 0), pack-reused 0\n",
      "remote: Resolving deltas: 100% (1/1), completed with 1 local object.\u001b[K\n",
      "To github.com:mkreman/aml-test.git\n",
      "   8e9c52e..60a028f  main -> main\n"
     ]
    }
   ],
   "source": [
    "# Commit and push the code file and dvc files into GitHub\n",
    "!git add .\n",
    "!git commit -m 'random-state-0'\n",
    "!git tag 'random-state-0'\n",
    "!git push --all"
   ]
  },
  {
   "cell_type": "markdown",
   "metadata": {},
   "source": [
    "### Making a change in dataset"
   ]
  },
  {
   "cell_type": "code",
   "execution_count": null,
   "metadata": {},
   "outputs": [
    {
     "data": {
      "text/plain": [
       "((4180, 2), (697, 2), (697, 2))"
      ]
     },
     "execution_count": 77,
     "metadata": {},
     "output_type": "execute_result"
    }
   ],
   "source": [
    "# Splitting the dataset into train, valid and test datasets using a different random-state\n",
    "random_state = 1\n",
    "\n",
    "train, temp = train_test_split(range(len(raw_data)), test_size=0.25, random_state=random_state)\n",
    "valid, test = train_test_split(temp, test_size=0.5, random_state=random_state)\n",
    "train_df = raw_data.iloc[train, :]\n",
    "valid_df = raw_data.iloc[valid, :]\n",
    "test_df = raw_data.iloc[test, :]\n",
    "train_df.shape, valid_df.shape, test_df.shape"
   ]
  },
  {
   "cell_type": "code",
   "execution_count": 78,
   "metadata": {},
   "outputs": [],
   "source": [
    "# Saving the datasets into csv files\n",
    "train_df.to_csv('./train.csv', index=False)\n",
    "valid_df.to_csv('./valid.csv', index=False)\n",
    "test_df.to_csv('./test.csv', index=False)"
   ]
  },
  {
   "cell_type": "code",
   "execution_count": null,
   "metadata": {},
   "outputs": [
    {
     "name": "stdout",
     "output_type": "stream",
     "text": [
      "test.csv.dvc:                                                                   \n",
      "\tchanged outs:\n",
      "\t\tmodified:           test.csv\n",
      "train.csv.dvc:\n",
      "\tchanged outs:\n",
      "\t\tmodified:           train.csv\n",
      "valid.csv.dvc:\n",
      "\tchanged outs:\n",
      "\t\tmodified:           valid.csv\n",
      "\u001b[0m"
     ]
    }
   ],
   "source": [
    "# Checking the status\n",
    "!dvc status"
   ]
  },
  {
   "cell_type": "code",
   "execution_count": null,
   "metadata": {},
   "outputs": [
    {
     "name": "stdout",
     "output_type": "stream",
     "text": [
      "\u001b[?25l\u001b[32m⠋\u001b[0m Checking graph                                       core\u001b[39m>\n",
      "  0% Adding...|                          | train.csv |0/3 [00:00<?,     ?file/s]\n",
      "!\u001b[A\n",
      "Collecting files and computing hashes in train.csv    |0.00 [00:00,     ?file/s]\u001b[A\n",
      "                                                                                \u001b[A\n",
      "!\u001b[A\n",
      "  0% Checking cache in '/mnt/win/Users/MkReman/Gdrive/GoodNotes/CMI Data Science\u001b[A\n",
      "                                                                                \u001b[A\n",
      "!\u001b[A\n",
      "  0%|          |Adding train.csv to cache             0/1 [00:00<?,     ?file/s]\u001b[A\n",
      "                                                                                \u001b[A\n",
      "!\u001b[A\n",
      "  0%|          |Checking out /mnt/win/Users/MkReman/Gd0/1 [00:00<?,    ?files/s]\u001b[A\n",
      "  0% Adding...|                          | valid.csv |0/3 [00:00<?,     ?file/s]\u001b[A\n",
      "!\u001b[A\n",
      "Collecting files and computing hashes in valid.csv    |0.00 [00:00,     ?file/s]\u001b[A\n",
      "                                                                                \u001b[A\n",
      "!\u001b[A\n",
      "  0% Checking cache in '/mnt/win/Users/MkReman/Gdrive/GoodNotes/CMI Data Science\u001b[A\n",
      "                                                                                \u001b[A\n",
      "!\u001b[A\n",
      "  0%|          |Adding valid.csv to cache             0/1 [00:00<?,     ?file/s]\u001b[A\n",
      "                                                                                \u001b[A\n",
      "!\u001b[A\n",
      "  0%|          |Checking out /mnt/win/Users/MkReman/Gd0/1 [00:00<?,    ?files/s]\u001b[A\n",
      " 67% Adding...|███████████████▎       | test.csv |2/3 [00:00<00:00, 10.66file/s]\u001b[A\n",
      "!\u001b[A\n",
      "Collecting files and computing hashes in test.csv     |0.00 [00:00,     ?file/s]\u001b[A\n",
      "                                                                                \u001b[A\n",
      "!\u001b[A\n",
      "  0% Checking cache in '/mnt/win/Users/MkReman/Gdrive/GoodNotes/CMI Data Science\u001b[A\n",
      "                                                                                \u001b[A\n",
      "!\u001b[A\n",
      "  0%|          |Adding test.csv to cache              0/1 [00:00<?,     ?file/s]\u001b[A\n",
      "                                                                                \u001b[A\n",
      "!\u001b[A\n",
      "  0%|          |Checking out /mnt/win/Users/MkReman/Gd0/1 [00:00<?,    ?files/s]\u001b[A\n",
      "100% Adding...|████████████████████████████████████████|3/3 [00:00, 10.83file/s]\u001b[A\n",
      "\u001b[0m"
     ]
    }
   ],
   "source": [
    "# Again adding the dataset into DVC\n",
    "!dvc add train.csv valid.csv test.csv"
   ]
  },
  {
   "cell_type": "code",
   "execution_count": null,
   "metadata": {},
   "outputs": [
    {
     "name": "stdout",
     "output_type": "stream",
     "text": [
      "Collecting                                            |3.00 [00:00,  167entry/s]\n",
      "Pushing\n",
      "!\u001b[A\n",
      "  0% Checking cache in '1vSoPb-j-HEenlTAyMpz57y2L2I_y1QZp/files/md5'| |0/? [00:0\u001b[A\n",
      "  0% Querying cache in '1vSoPb-j-HEenlTAyMpz57y2L2I_y1QZp/files/md5'| |1/256 [00\u001b[A\n",
      "                                                                                \u001b[A\n",
      "!\u001b[A\n",
      "  0% Checking cache in '/mnt/win/Users/MkReman/Gdrive/GoodNotes/CMI Data Science\u001b[A\n",
      "                                                                                \u001b[A\n",
      "!\u001b[A\n",
      "  0%|          |Pushing to gdrive                     0/3 [00:00<?,     ?file/s]\u001b[A\n",
      "  0%|          |Pushing to gdrive                     0/3 [00:00<?,     ?file/s]\u001b[A\n",
      "\n",
      "!\u001b[A\u001b[A\n",
      "\n",
      "  0%|          |/mnt/win/Users/MkReman/Gdrive/G0.00/60.1k [00:00<?,        ?B/s]\u001b[A\u001b[A\n",
      "\n",
      " 13%|█▎        |/mnt/win/Users/MkReman/Gdr8.00k/60.1k [00:05<00:34,    1.54kB/s]\u001b[A\u001b[A\n",
      "\n",
      "                                                                                \u001b[A\u001b[A\n",
      " 33%|███▎      |Pushing to gdrive                 1/3 [00:07<00:14,  7.17s/file]\u001b[A\n",
      "\n",
      "!\u001b[A\u001b[A\n",
      "\n",
      "  0%|          |/mnt/win/Users/MkReman/Gdrive/Go0.00/352k [00:00<?,        ?B/s]\u001b[A\u001b[A\n",
      "\n",
      "\n",
      "!\u001b[A\u001b[A\u001b[A\n",
      "\n",
      "\n",
      "  0%|          |/mnt/win/Users/MkReman/Gdrive/G0.00/57.4k [00:00<?,        ?B/s]\u001b[A\u001b[A\u001b[A\n",
      "\n",
      "  2%|▏         |/mnt/win/Users/MkReman/Gdri8.00k/352k [00:02<01:35,    3.71kB/s]\u001b[A\u001b[A\n",
      "\n",
      "\n",
      " 14%|█▍        |/mnt/win/Users/MkReman/Gdr8.00k/57.4k [00:02<00:18,    2.76kB/s]\u001b[A\u001b[A\u001b[A\n",
      "\n",
      "                                                                                \u001b[A\u001b[A\n",
      " 67%|██████▋   |Pushing to gdrive                 2/3 [00:11<00:05,  5.24s/file]\u001b[A\n",
      "\n",
      "\n",
      "                                                                                \u001b[A\u001b[A\u001b[A\n",
      "100%|██████████|Pushing to gdrive                 3/3 [00:12<00:00,  3.13s/file]\u001b[A\n",
      "Pushing                                                                         \u001b[A\n",
      "3 files pushed\n",
      "\u001b[0m"
     ]
    }
   ],
   "source": [
    "# Pushing the dataset in google drive folder using DVC\n",
    "!dvc push"
   ]
  },
  {
   "cell_type": "code",
   "execution_count": null,
   "metadata": {},
   "outputs": [
    {
     "name": "stdout",
     "output_type": "stream",
     "text": [
      "[main a979a28] random-state-1\n",
      " 4 files changed, 105 insertions(+), 24 deletions(-)\n",
      "Enumerating objects: 11, done.\n",
      "Counting objects: 100% (11/11), done.\n",
      "Delta compression using up to 8 threads\n",
      "Compressing objects: 100% (6/6), done.\n",
      "Writing objects: 100% (6/6), 1.15 KiB | 391.00 KiB/s, done.\n",
      "Total 6 (delta 1), reused 0 (delta 0), pack-reused 0\n",
      "remote: Resolving deltas: 100% (1/1), completed with 1 local object.\u001b[K\n",
      "To github.com:mkreman/aml-test.git\n",
      "   60a028f..a979a28  main -> main\n"
     ]
    }
   ],
   "source": [
    "# Commit and pushing the code and dvc files into GitHub\n",
    "!git add .\n",
    "!git commit -m 'random-state-1'\n",
    "!git tag 'random-state-1'\n",
    "!git push --all"
   ]
  },
  {
   "cell_type": "markdown",
   "metadata": {},
   "source": [
    "### Checking out different versions of the dataset and printing the distribution of labels"
   ]
  },
  {
   "cell_type": "code",
   "execution_count": null,
   "metadata": {},
   "outputs": [
    {
     "name": "stdout",
     "output_type": "stream",
     "text": [
      "Previous HEAD position was a979a28 random-state-1\n",
      "HEAD is now at 60a028f random-state-0\n",
      "Building workspace index                              |3.00 [00:00,  130entry/s]\n",
      "Comparing indexes                                    |4.00 [00:00, 1.30kentry/s]\n",
      "Applying changes                                      |3.00 [00:00,   139file/s]\n",
      "\u001b[33mM\u001b[0m       valid.csv\n",
      "\u001b[33mM\u001b[0m       test.csv\n",
      "\u001b[33mM\u001b[0m       train.csv\n",
      "\u001b[0m"
     ]
    }
   ],
   "source": [
    "# Checking out the random-state-0 code and the dataset\n",
    "!git checkout 'random-state-0' --force\n",
    "!dvc checkout --force"
   ]
  },
  {
   "cell_type": "code",
   "execution_count": null,
   "metadata": {},
   "outputs": [
    {
     "data": {
      "text/plain": [
       "label\n",
       "ham     3620\n",
       "spam     560\n",
       "Name: count, dtype: int64"
      ]
     },
     "execution_count": 91,
     "metadata": {},
     "output_type": "execute_result"
    }
   ],
   "source": [
    "# Reading the train.csv and printing the label distribution\n",
    "train_df = pd.read_csv('./train.csv')\n",
    "train_df.label.value_counts()"
   ]
  },
  {
   "cell_type": "code",
   "execution_count": null,
   "metadata": {},
   "outputs": [],
   "source": [
    "# Reading the valid.csv and printing the label distribution\n",
    "valid_df = pd.read_csv('./valid.csv')\n",
    "valid_df.label.value_counts()"
   ]
  },
  {
   "cell_type": "code",
   "execution_count": null,
   "metadata": {},
   "outputs": [],
   "source": [
    "# Reading the test.csv and printing the label distribution\n",
    "test_df = pd.read_csv('./test.csv')\n",
    "test_df.label.value_counts()"
   ]
  },
  {
   "cell_type": "code",
   "execution_count": null,
   "metadata": {},
   "outputs": [
    {
     "name": "stdout",
     "output_type": "stream",
     "text": [
      "Previous HEAD position was 60a028f random-state-0\n",
      "HEAD is now at a979a28 random-state-1\n",
      "Building workspace index                              |3.00 [00:00,  109entry/s]\n",
      "Comparing indexes                                    |4.00 [00:00, 1.19kentry/s]\n",
      "Applying changes                                      |3.00 [00:00,   125file/s]\n",
      "\u001b[33mM\u001b[0m       train.csv\n",
      "\u001b[33mM\u001b[0m       valid.csv\n",
      "\u001b[33mM\u001b[0m       test.csv\n",
      "\u001b[0m"
     ]
    }
   ],
   "source": [
    "# Checking out the random-state-1 code and the dataset\n",
    "!git checkout 'random-state-1' --force\n",
    "!dvc checkout --force"
   ]
  },
  {
   "cell_type": "code",
   "execution_count": null,
   "metadata": {},
   "outputs": [
    {
     "data": {
      "text/plain": [
       "label\n",
       "ham     3620\n",
       "spam     560\n",
       "Name: count, dtype: int64"
      ]
     },
     "execution_count": 94,
     "metadata": {},
     "output_type": "execute_result"
    }
   ],
   "source": [
    "# Reading the train.csv and printing the label distribution\n",
    "train_df = pd.read_csv('./train.csv')\n",
    "train_df.label.value_counts()"
   ]
  },
  {
   "cell_type": "code",
   "execution_count": null,
   "metadata": {},
   "outputs": [],
   "source": [
    "# Reading the valid.csv and printing the label distribution\n",
    "valid_df = pd.read_csv('./valid.csv')\n",
    "valid_df.label.value_counts()"
   ]
  },
  {
   "cell_type": "code",
   "execution_count": null,
   "metadata": {},
   "outputs": [],
   "source": [
    "# Reading the test.csv and printing the label distribution\n",
    "test_df = pd.read_csv('./test.csv')\n",
    "test_df.label.value_counts()"
   ]
  },
  {
   "cell_type": "markdown",
   "metadata": {},
   "source": [
    "We can see that the distributions are different in both versions of the dataset"
   ]
  }
 ],
 "metadata": {
  "kernelspec": {
   "display_name": "base",
   "language": "python",
   "name": "python3"
  },
  "language_info": {
   "codemirror_mode": {
    "name": "ipython",
    "version": 3
   },
   "file_extension": ".py",
   "mimetype": "text/x-python",
   "name": "python",
   "nbconvert_exporter": "python",
   "pygments_lexer": "ipython3",
   "version": "3.12.2"
  }
 },
 "nbformat": 4,
 "nbformat_minor": 2
}
