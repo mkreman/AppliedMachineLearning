{
 "cells": [
  {
   "cell_type": "code",
   "execution_count": 6,
   "metadata": {},
   "outputs": [],
   "source": [
    "import mlflow\n",
    "import mlflow.sklearn\n",
    "from mlflow.tracking import MlflowClient\n",
    "\n",
    "import numpy as np\n",
    "import pandas as pd\n",
    "from sklearn.svm import SVC\n",
    "from sklearn.linear_model import LogisticRegression\n",
    "from sklearn.tree import DecisionTreeClassifier\n",
    "from sklearn.metrics import average_precision_score\n",
    "from sklearn.feature_extraction.text import CountVectorizer, TfidfTransformer\n",
    "\n",
    "import warnings\n",
    "warnings.filterwarnings('ignore')"
   ]
  },
  {
   "cell_type": "code",
   "execution_count": 7,
   "metadata": {},
   "outputs": [
    {
     "data": {
      "text/plain": [
       "'2.20.3'"
      ]
     },
     "execution_count": 7,
     "metadata": {},
     "output_type": "execute_result"
    }
   ],
   "source": [
    "mlflow.__version__"
   ]
  },
  {
   "cell_type": "markdown",
   "metadata": {},
   "source": [
    "### Reading the csv files created in preparation part"
   ]
  },
  {
   "cell_type": "code",
   "execution_count": 8,
   "metadata": {},
   "outputs": [],
   "source": [
    "train_df = pd.read_csv('../Assignment-1/sms+spam+collection/train.csv')\n",
    "valid_df = pd.read_csv('../Assignment-1/sms+spam+collection/valid.csv')"
   ]
  },
  {
   "cell_type": "code",
   "execution_count": 9,
   "metadata": {},
   "outputs": [],
   "source": [
    "# There are some empty sms filed, hence removing them\n",
    "train_df.dropna(inplace=True)"
   ]
  },
  {
   "cell_type": "markdown",
   "metadata": {},
   "source": [
    "### Processing the text"
   ]
  },
  {
   "cell_type": "code",
   "execution_count": 10,
   "metadata": {},
   "outputs": [
    {
     "data": {
      "text/plain": [
       "<Compressed Sparse Row sparse matrix of dtype 'int64'\n",
       "\twith 35911 stored elements and shape (4171, 6952)>"
      ]
     },
     "execution_count": 10,
     "metadata": {},
     "output_type": "execute_result"
    }
   ],
   "source": [
    "bow_transformer = CountVectorizer(analyzer=lambda x: x.split()).fit(train_df['processed sms'])\n",
    "sms_bow = bow_transformer.transform(train_df['processed sms'])\n",
    "sms_bow"
   ]
  },
  {
   "cell_type": "code",
   "execution_count": 11,
   "metadata": {},
   "outputs": [],
   "source": [
    "tfidf_transformer = TfidfTransformer().fit(sms_bow)"
   ]
  },
  {
   "cell_type": "markdown",
   "metadata": {},
   "source": [
    "### Creating TF-IDF embeddings for train, valid and test datasets"
   ]
  },
  {
   "cell_type": "code",
   "execution_count": 12,
   "metadata": {},
   "outputs": [
    {
     "data": {
      "text/plain": [
       "<Compressed Sparse Row sparse matrix of dtype 'float64'\n",
       "\twith 35911 stored elements and shape (4171, 6952)>"
      ]
     },
     "execution_count": 12,
     "metadata": {},
     "output_type": "execute_result"
    }
   ],
   "source": [
    "y_train = train_df.label.map({'ham': 0, 'spam': 1}).values\n",
    "\n",
    "train_sms_tfidf = tfidf_transformer.transform(sms_bow)\n",
    "train_sms_tfidf"
   ]
  },
  {
   "cell_type": "code",
   "execution_count": 13,
   "metadata": {},
   "outputs": [
    {
     "data": {
      "text/plain": [
       "<Compressed Sparse Row sparse matrix of dtype 'float64'\n",
       "\twith 5134 stored elements and shape (697, 6952)>"
      ]
     },
     "execution_count": 13,
     "metadata": {},
     "output_type": "execute_result"
    }
   ],
   "source": [
    "y_true_val = valid_df.label.map({'ham': 0, 'spam': 1}).values\n",
    "\n",
    "valid_sms_tfidf = tfidf_transformer.transform(bow_transformer.transform(valid_df['processed sms']))\n",
    "valid_sms_tfidf"
   ]
  },
  {
   "cell_type": "markdown",
   "metadata": {},
   "source": [
    "### Define the models"
   ]
  },
  {
   "cell_type": "code",
   "execution_count": 14,
   "metadata": {},
   "outputs": [],
   "source": [
    "# Define Benchmark Models\n",
    "models = {\n",
    "    \"logistic_regression\": LogisticRegression(C=0.001, penalty=None),\n",
    "    \"random_forest\": DecisionTreeClassifier(random_state=0, criterion='entropy', max_features=None, splitter='random'),\n",
    "    \"svc\": SVC(C=10, degree=2, gamma='scale', kernel='linear', probability=True),\n",
    "}"
   ]
  },
  {
   "cell_type": "markdown",
   "metadata": {},
   "source": [
    "### Start MLflow Experiment"
   ]
  },
  {
   "cell_type": "code",
   "execution_count": 15,
   "metadata": {},
   "outputs": [
    {
     "name": "stderr",
     "output_type": "stream",
     "text": [
      "2025/03/19 14:38:25 INFO mlflow.tracking.fluent: Experiment with name 'Benchmark Models' does not exist. Creating a new experiment.\n"
     ]
    },
    {
     "name": "stdout",
     "output_type": "stream",
     "text": [
      "Training logistic_regression...\n",
      "logistic_regression AUCPR: 0.9513\n"
     ]
    },
    {
     "name": "stderr",
     "output_type": "stream",
     "text": [
      "Successfully registered model 'logistic_regression'.\n",
      "Created version '1' of model 'logistic_regression'.\n"
     ]
    },
    {
     "name": "stdout",
     "output_type": "stream",
     "text": [
      "Training random_forest...\n",
      "random_forest AUCPR: 0.7396\n"
     ]
    },
    {
     "name": "stderr",
     "output_type": "stream",
     "text": [
      "Successfully registered model 'random_forest'.\n",
      "Created version '1' of model 'random_forest'.\n"
     ]
    },
    {
     "name": "stdout",
     "output_type": "stream",
     "text": [
      "Training svc...\n",
      "svc AUCPR: 0.9671\n"
     ]
    },
    {
     "name": "stderr",
     "output_type": "stream",
     "text": [
      "Successfully registered model 'svc'.\n",
      "Created version '1' of model 'svc'.\n"
     ]
    }
   ],
   "source": [
    "mlflow.set_experiment(\"Benchmark Models\")\n",
    "\n",
    "client = MlflowClient()\n",
    "for model_name, model in models.items():\n",
    "    with mlflow.start_run(run_name=model_name):\n",
    "        print(f\"Training {model_name}...\")\n",
    "\n",
    "        # Train Model\n",
    "        model.fit(train_sms_tfidf, y_train)\n",
    "        y_pred_prob = model.predict_proba(valid_sms_tfidf)[:, 1]\n",
    "\n",
    "        # Compute AUCPR\n",
    "        aucpr = average_precision_score(y_true_val, y_pred_prob)\n",
    "        print(f\"{model_name} AUCPR: {aucpr:.4f}\")\n",
    "\n",
    "        # Log Metrics & Parameters\n",
    "        mlflow.log_param(\"model_type\", model_name)\n",
    "        mlflow.log_metric(\"AUCPR\", aucpr)\n",
    "\n",
    "        # Log Model in MLflow\n",
    "        mlflow.sklearn.log_model(model, model_name, input_example=train_sms_tfidf[0])\n",
    "\n",
    "        # Register Model\n",
    "        registered_model_uri = f\"runs:/{mlflow.active_run().info.run_id}/{model_name}\"\n",
    "        mlflow.register_model(model_uri=registered_model_uri, name=model_name)"
   ]
  },
  {
   "cell_type": "markdown",
   "metadata": {},
   "source": [
    "## Getting the experiments and printing AUCPR metric for every benchmark."
   ]
  },
  {
   "cell_type": "code",
   "execution_count": 16,
   "metadata": {},
   "outputs": [
    {
     "name": "stdout",
     "output_type": "stream",
     "text": [
      "AUCPR Scores for Registered Models:\n",
      "svc: AUCPR = 0.9671\n",
      "random_forest: AUCPR = 0.7396\n",
      "logistic_regression: AUCPR = 0.9513\n"
     ]
    }
   ],
   "source": [
    "client = MlflowClient()\n",
    "experiment = client.get_experiment_by_name(\"Benchmark Models\")\n",
    "\n",
    "print(\"AUCPR Scores for Registered Models:\")\n",
    "for run in client.search_runs(experiment.experiment_id):\n",
    "    model_name = run.data.params[\"model_type\"]\n",
    "    aucpr = run.data.metrics[\"AUCPR\"]\n",
    "    print(f\"{model_name}: AUCPR = {aucpr:.4f}\")"
   ]
  },
  {
   "cell_type": "code",
   "execution_count": null,
   "metadata": {},
   "outputs": [],
   "source": []
  }
 ],
 "metadata": {
  "kernelspec": {
   "display_name": "base",
   "language": "python",
   "name": "python3"
  },
  "language_info": {
   "codemirror_mode": {
    "name": "ipython",
    "version": 3
   },
   "file_extension": ".py",
   "mimetype": "text/x-python",
   "name": "python",
   "nbconvert_exporter": "python",
   "pygments_lexer": "ipython3",
   "version": "3.12.2"
  }
 },
 "nbformat": 4,
 "nbformat_minor": 2
}
